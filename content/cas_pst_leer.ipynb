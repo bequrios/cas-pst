{
 "cells": [
  {
   "cell_type": "markdown",
   "id": "32f71f35-78dd-4261-899c-9b9ebe7f0bba",
   "metadata": {},
   "source": [
    "# RDF und SPARQL Sandkasten"
   ]
  },
  {
   "cell_type": "code",
   "execution_count": null,
   "id": "77cd1a38-1b3d-498e-88e1-031ffa885bfd",
   "metadata": {
    "tags": []
   },
   "outputs": [],
   "source": [
    "# nötige Module importieren\n",
    "import rdflib\n",
    "import pandas as pd"
   ]
  },
  {
   "cell_type": "code",
   "execution_count": null,
   "id": "6fd2e44b-cdc2-41cf-8e70-5489a8a644b6",
   "metadata": {
    "tags": []
   },
   "outputs": [],
   "source": [
    "# Funktionsdefinition, um eine Query gegen eine lokale Turtle Datei auszuführen\n",
    "def query(ttl_string, query_string):\n",
    "    \n",
    "    g = rdflib.Graph()\n",
    "    g.parse(data = ttl_string)\n",
    "\n",
    "    qres = g.query(query_string)\n",
    "\n",
    "    df = pd.DataFrame(qres, columns=qres.vars)\n",
    "    display(df)"
   ]
  },
  {
   "cell_type": "markdown",
   "id": "ff308100-6249-4d9a-b68e-03e77edaf108",
   "metadata": {},
   "source": [
    "## Spezifikationen\n",
    "\n",
    "Diese technischen Dokumente sind sehr lesenwert (und für Spezifikationen auch sehr leserlich geschrieben):\n",
    "\n",
    "- [RDF Primer](https://www.w3.org/TR/rdf11-primer/)\n",
    "- [Turtle](https://www.w3.org/TR/turtle/)\n",
    "- [SPARQL](https://www.w3.org/TR/sparql11-query/)"
   ]
  },
  {
   "cell_type": "markdown",
   "id": "f6e04954-00ad-4b7d-94b6-222b880da931",
   "metadata": {},
   "source": [
    "## Vanilla TTL\n",
    "\n",
    "Schreibe ein paar Triples in der Turtle Serialisierung rund um den Politikbetrieb in der Schweiz. Nutze für die URIs `<https://example.com/...>`"
   ]
  },
  {
   "cell_type": "code",
   "execution_count": null,
   "id": "96c16dd8-fbcb-47f2-ad8d-eb54eb88b22d",
   "metadata": {
    "tags": []
   },
   "outputs": [],
   "source": [
    "ttl_string = \"\"\"\n",
    "\n",
    "\n",
    "\"\"\"\n",
    "\n",
    "g = rdflib.Graph()\n",
    "g.parse(data = ttl_string)"
   ]
  },
  {
   "cell_type": "markdown",
   "id": "70fdcde8-925c-4c0e-8c98-22e241b58e1b",
   "metadata": {},
   "source": [
    "## TTL mit Prefix\n",
    "\n",
    "Ersetze in Deinen Triples `<https://example.com/>` durch einen Prefix (am besten den Empty Prefix; [Base vs. Empty Prefix](https://stackoverflow.com/questions/34146707/turtle-difference-between-base-and-empty-prefix))"
   ]
  },
  {
   "cell_type": "code",
   "execution_count": null,
   "id": "a2848106-4dec-4da8-a885-863dcd516d1e",
   "metadata": {},
   "outputs": [],
   "source": [
    "ttl_string = \"\"\"\n",
    "\n",
    "\n",
    "\"\"\""
   ]
  },
  {
   "cell_type": "markdown",
   "id": "859b946d-664a-40ed-9547-97cf1d5161ce",
   "metadata": {},
   "source": [
    "## TTL ohne Wiederholungen\n",
    "\n",
    "Ersetze doppelte Subjekte mit Hilfe von [Prädikat-Listen](https://www.w3.org/TR/turtle/#predicate-lists)."
   ]
  },
  {
   "cell_type": "code",
   "execution_count": null,
   "id": "6044e086-1345-464b-9603-09092e9c35c4",
   "metadata": {
    "tags": []
   },
   "outputs": [],
   "source": [
    "ttl_string = \"\"\"\n",
    "\n",
    "\n",
    "\"\"\""
   ]
  },
  {
   "cell_type": "markdown",
   "id": "71bb8203-009f-422b-a63b-0b3d1e9f9e04",
   "metadata": {},
   "source": [
    "## TTL mit echter URI"
   ]
  },
  {
   "cell_type": "code",
   "execution_count": null,
   "id": "578a8d85-2d14-4d4f-9c30-b50c7b302d0b",
   "metadata": {},
   "outputs": [],
   "source": [
    "ttl_string = \"\"\"\n",
    "\n",
    "\n",
    "\"\"\""
   ]
  },
  {
   "cell_type": "markdown",
   "id": "20f28f27-de2c-4736-9b3f-b35485d8e856",
   "metadata": {},
   "source": [
    "## TTL mit externem Vokabular\n"
   ]
  },
  {
   "cell_type": "code",
   "execution_count": null,
   "id": "34909624-06ef-4adc-84b1-28d1549673d8",
   "metadata": {
    "tags": []
   },
   "outputs": [],
   "source": [
    "ttl_string = \"\"\"\n",
    "\n",
    "\n",
    "\"\"\""
   ]
  },
  {
   "cell_type": "markdown",
   "id": "bca09816-cbe7-4418-86d4-d14edf8f8eef",
   "metadata": {},
   "source": [
    "## TTL mit Literals"
   ]
  },
  {
   "cell_type": "code",
   "execution_count": null,
   "id": "ec354931-eaba-441e-8ada-fc5cfd36c1a4",
   "metadata": {
    "tags": []
   },
   "outputs": [],
   "source": [
    "ttl_string = \"\"\"\n",
    "\n",
    "\n",
    "\"\"\""
   ]
  },
  {
   "cell_type": "markdown",
   "id": "d2456596-6894-4dcc-b32d-e1f5396b1aba",
   "metadata": {},
   "source": [
    "## TTL mit Blank Nodes"
   ]
  },
  {
   "cell_type": "code",
   "execution_count": null,
   "id": "5e2d4cea-526c-4788-96f6-0dee5438fb66",
   "metadata": {
    "tags": []
   },
   "outputs": [],
   "source": [
    "ttl_string = \"\"\"\n",
    "\n",
    "\n",
    "\"\"\""
   ]
  },
  {
   "cell_type": "markdown",
   "id": "aad362b0-7472-454a-bc22-21e4a199718b",
   "metadata": {},
   "source": [
    "## OWL"
   ]
  },
  {
   "cell_type": "code",
   "execution_count": null,
   "id": "0db79cde-b5f5-42df-92bd-ab3f594da925",
   "metadata": {},
   "outputs": [],
   "source": [
    "ttl_string = \"\"\"\n",
    "\n",
    "\n",
    "\"\"\""
   ]
  },
  {
   "cell_type": "markdown",
   "id": "b1464bdf-70e3-41f2-9f8f-742aebeaf3ef",
   "metadata": {},
   "source": [
    "Für OWL Ableitungen braucht es einen \"echten\" Triple Store, siehe bspw. https://ld.di.digisus-lab.ch/DieMitte"
   ]
  },
  {
   "cell_type": "markdown",
   "id": "483a925c-96de-4019-8f44-2b60520e2982",
   "metadata": {},
   "source": [
    "## SPARQL Base Query"
   ]
  },
  {
   "cell_type": "code",
   "execution_count": null,
   "id": "adc290f1-7cf0-421e-a89a-80ce60a6153f",
   "metadata": {},
   "outputs": [],
   "source": [
    "query_string = \"\"\"\n",
    "\n",
    "PREFIX : <https://ld.di.digisus-lab.ch/>\n",
    "PREFIX schema: <http://schema.org/>\n",
    "PREFIX xsd: <http://www.w3.org/2001/XMLSchema#>\n",
    "\n",
    "\n",
    "SELECT * WHERE {\n",
    "\n",
    "    ?s ?p ?o.\n",
    "\n",
    "}\n",
    "\n",
    "\"\"\"\n",
    "\n",
    "query(ttl_string, query_string)"
   ]
  }
 ],
 "metadata": {
  "kernelspec": {
   "display_name": "Python 3 (ipykernel)",
   "language": "python",
   "name": "python3"
  },
  "language_info": {
   "codemirror_mode": {
    "name": "ipython",
    "version": 3
   },
   "file_extension": ".py",
   "mimetype": "text/x-python",
   "name": "python",
   "nbconvert_exporter": "python",
   "pygments_lexer": "ipython3",
   "version": "3.10.11"
  },
  "toc-autonumbering": true
 },
 "nbformat": 4,
 "nbformat_minor": 5
}
