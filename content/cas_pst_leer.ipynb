{
  "cells": [
    {
      "cell_type": "markdown",
      "id": "b2fab331",
      "metadata": {},
      "source": [
        "# RDF und SPARQL Sandkasten"
      ]
    },
    {
      "cell_type": "code",
      "execution_count": null,
      "id": "92cba32f",
      "metadata": {},
      "outputs": [],
      "source": [
        "# nötige Module importieren\n",
        "%pip install -q ipywidgets==8.1.1 ipycytoscape networkx rdflib\n",
        "import rdflib\n",
        "import ipycytoscape as cy\n",
        "import networkx as nx\n",
        "import pandas as pd"
      ]
    },
    {
      "cell_type": "markdown",
      "id": "11f30a7f",
      "metadata": {},
      "source": [
        "## Funktionsdefinitionen"
      ]
    },
    {
      "cell_type": "code",
      "execution_count": null,
      "id": "5b85643a",
      "metadata": {},
      "outputs": [],
      "source": [
        "# Funktionsfür die Konvertierung von RDF zu NetworkX\n",
        "def rdflib_to_networkx(rdf_graph):\n",
        "    G = nx.DiGraph()  # Use Graph() if you want an undirected graph\n",
        "    for subj, pred, obj in rdf_graph:\n",
        "        if isinstance(subj, rdflib.URIRef):\n",
        "            subj = rdf_graph.qname(subj)\n",
        "        elif isinstance(subj, rdflib.BNode):\n",
        "            subj = f\"_:bnode_{subj}\"  # Convert blank node to a unique string\n",
        "        pred = rdf_graph.qname(pred)\n",
        "        if isinstance(obj, rdflib.URIRef):\n",
        "            obj = rdf_graph.qname(obj)\n",
        "        elif isinstance(obj, rdflib.BNode):\n",
        "            obj = f\"_:bnode_{obj}\"  # Convert blank node to a unique string\n",
        "        elif isinstance(obj, rdflib.Literal):\n",
        "            obj = str(obj)  # Convert Literal to its string representation\n",
        "        G.add_edge(str(subj), str(obj), label=str(pred))\n",
        "    return G"
      ]
    },
    {
      "cell_type": "code",
      "execution_count": null,
      "id": "5d9dd8d9",
      "metadata": {},
      "outputs": [],
      "source": [
        "# Funktionsdefinition, um einen TTL String zu parsen und als Graph zu plotten\n",
        "def parse_and_plot(ttl_string):\n",
        "    g = rdflib.Graph()\n",
        "    g.parse(data = ttl_string)\n",
        "    nx_graph = rdflib_to_networkx(g)\n",
        "    plot = cy.CytoscapeWidget()\n",
        "    plot.graph.add_graph_from_networkx(nx_graph, directed=True)\n",
        "\n",
        "    style = [\n",
        "        {\n",
        "            'selector': 'node',\n",
        "             'style': {\n",
        "                'font-family': 'helvetica',\n",
        "                'font-size': '12px',\n",
        "                 'color': 'white',\n",
        "                'text-outline-width': 2,\n",
        "                'text-outline-color': 'green',\n",
        "                'background-color': 'green',\n",
        "                'content': 'data(id)',\n",
        "                'text-valign': 'center',\n",
        "             }\n",
        "        },\n",
        "        {\n",
        "            'selector': 'edge.directed',\n",
        "            'style': {\n",
        "                'font-family': 'helvetica',\n",
        "                'font-size': '12px',\n",
        "                'label': 'data(label)',\n",
        "                'color': 'white',\n",
        "                'text-outline-width': 2,\n",
        "                'text-outline-color': 'orange',\n",
        "                'background-color': 'orange',\n",
        "                'curve-style': 'bezier',\n",
        "                'target-arrow-shape': 'triangle',\n",
        "            }\n",
        "        }\n",
        "    ]\n",
        "    \n",
        "    plot.set_style(style)\n",
        "    return plot"
      ]
    },
    {
      "cell_type": "code",
      "execution_count": null,
      "id": "851af972",
      "metadata": {},
      "outputs": [],
      "source": [
        "# Funktionsdefinition, um eine Query gegen eine lokale Turtle Datei auszuführen\n",
        "def query(ttl_string, query_string):\n",
        "    \n",
        "    g = rdflib.Graph()\n",
        "    g.parse(data = ttl_string)\n",
        "\n",
        "    qres = g.query(query_string)\n",
        "\n",
        "    df = pd.DataFrame(qres, columns=qres.vars)\n",
        "    return df"
      ]
    },
    {
      "cell_type": "markdown",
      "id": "4c269c90",
      "metadata": {},
      "source": [
        "## Spezifikationen\n",
        "\n",
        "Diese technischen Dokumente sind sehr lesenwert (und für Spezifikationen auch sehr leserlich geschrieben):\n",
        "\n",
        "- [RDF Primer](https://www.w3.org/TR/rdf11-primer/)\n",
        "- [Turtle](https://www.w3.org/TR/turtle/)\n",
        "- [SPARQL](https://www.w3.org/TR/sparql11-query/)"
      ]
    },
    {
      "cell_type": "markdown",
      "id": "f6e04954-00ad-4b7d-94b6-222b880da931",
      "metadata": {},
      "source": [
        "## Basis Turtle\n",
        "\n",
        "Bilde folgende Informationen als RDF Triple in Turtle Serialisierung ab:\n",
        "\n",
        "- Karin Keller Sutter ist eine FDP Bundesrätin\n",
        "- Viola Amherd ist eine Bundesrätin in der Partei \"die Mitte\"\n",
        "- NadineMasshardt ist eine SP Nationalrätin, die in Affoltern am Albis geboren wurde\n",
        "- Maya Graf ist eine Ständerätin der Grünen und ihr Vater ist Fritz Graf\n",
        "- Fritz Graf ist im Baselbieter Landrat für die SVP und Maya Graf seine Tochter\n",
        "- FDP, die Mitte, SP, Grüne und SVP sind politische Parteien \n",
        "\n",
        "Nutze für die URIs `<https://example.com/...>`"
      ]
    },
    {
      "cell_type": "code",
      "execution_count": null,
      "id": "96c16dd8-fbcb-47f2-ad8d-eb54eb88b22d",
      "metadata": {
        "tags": []
      },
      "outputs": [],
      "source": [
        "ttl_string = \"\"\"\n",
        "\n",
        "\"\"\"\n",
        "\n",
        "plot = parse_and_plot(ttl_string)\n",
        "display(plot)"
      ]
    },
    {
      "cell_type": "markdown",
      "id": "70fdcde8-925c-4c0e-8c98-22e241b58e1b",
      "metadata": {},
      "source": [
        "## TTL mit Prefix\n",
        "\n",
        "Ersetze in Deinen Triples `<https://example.com/>` durch einen Prefix (am besten den Empty Prefix; [Base vs. Empty Prefix](https://stackoverflow.com/questions/34146707/turtle-difference-between-base-and-empty-prefix))"
      ]
    },
    {
      "cell_type": "code",
      "execution_count": null,
      "id": "a2848106-4dec-4da8-a885-863dcd516d1e",
      "metadata": {},
      "outputs": [],
      "source": [
        "ttl_string = \"\"\"\n",
        "\n",
        "@prefix : <https://example.com/>.\n",
        "\n",
        "\"\"\"\n",
        "\n",
        "plot = parse_and_plot(ttl_string)\n",
        "display(plot)"
      ]
    },
    {
      "cell_type": "markdown",
      "id": "859b946d-664a-40ed-9547-97cf1d5161ce",
      "metadata": {},
      "source": [
        "## TTL ohne Wiederholungen\n",
        "\n",
        "Ersetze doppelte Subjekte mit Hilfe von [Prädikat-Listen](https://www.w3.org/TR/turtle/#predicate-lists)."
      ]
    },
    {
      "cell_type": "code",
      "execution_count": null,
      "id": "6044e086-1345-464b-9603-09092e9c35c4",
      "metadata": {
        "tags": []
      },
      "outputs": [],
      "source": [
        "ttl_string = \"\"\"\n",
        "\n",
        "@prefix : <https://example.com/>.\n",
        "\n",
        "\"\"\"\n",
        "\n",
        "plot = parse_and_plot(ttl_string)\n",
        "display(plot)"
      ]
    },
    {
      "cell_type": "markdown",
      "id": "71bb8203-009f-422b-a63b-0b3d1e9f9e04",
      "metadata": {},
      "source": [
        "## TTL mit echter URI"
      ]
    },
    {
      "cell_type": "code",
      "execution_count": null,
      "id": "578a8d85-2d14-4d4f-9c30-b50c7b302d0b",
      "metadata": {},
      "outputs": [],
      "source": [
        "ttl_string = \"\"\"\n",
        "\n",
        "@prefix : <https://ld.di.digisus-lab.ch/>.\n",
        "\n",
        "\"\"\"\n",
        "\n",
        "plot = parse_and_plot(ttl_string)\n",
        "display(plot)"
      ]
    },
    {
      "cell_type": "markdown",
      "id": "20f28f27-de2c-4736-9b3f-b35485d8e856",
      "metadata": {},
      "source": [
        "## TTL mit externem Vokabular\n"
      ]
    },
    {
      "cell_type": "code",
      "execution_count": null,
      "id": "34909624-06ef-4adc-84b1-28d1549673d8",
      "metadata": {
        "tags": []
      },
      "outputs": [],
      "source": [
        "ttl_string = \"\"\"\n",
        "\n",
        "@prefix : <https://ld.di.digisus-lab.ch/>.\n",
        "@prefix schema: <http://schema.org/>.\n",
        "@prefix rdf: <http://www.w3.org/1999/02/22-rdf-syntax-ns#>.\n",
        "\n",
        "\"\"\"\n",
        "\n",
        "plot = parse_and_plot(ttl_string)\n",
        "display(plot)"
      ]
    },
    {
      "cell_type": "markdown",
      "id": "bca09816-cbe7-4418-86d4-d14edf8f8eef",
      "metadata": {},
      "source": [
        "## TTL mit Literals"
      ]
    },
    {
      "cell_type": "code",
      "execution_count": null,
      "id": "ec354931-eaba-441e-8ada-fc5cfd36c1a4",
      "metadata": {
        "tags": []
      },
      "outputs": [],
      "source": [
        "ttl_string = \"\"\"\n",
        "\n",
        "@prefix : <https://ld.di.digisus-lab.ch/>.\n",
        "@prefix schema: <http://schema.org/>.\n",
        "@prefix xsd: <http://www.w3.org/2001/XMLSchema#>.\n",
        "@prefix rdf: <http://www.w3.org/1999/02/22-rdf-syntax-ns#>.\n",
        "\n",
        "\"\"\"\n",
        "\n",
        "plot = parse_and_plot(ttl_string)\n",
        "display(plot)"
      ]
    },
    {
      "cell_type": "markdown",
      "id": "d2456596-6894-4dcc-b32d-e1f5396b1aba",
      "metadata": {},
      "source": [
        "## TTL mit Blank Nodes"
      ]
    },
    {
      "cell_type": "code",
      "execution_count": null,
      "id": "5e2d4cea-526c-4788-96f6-0dee5438fb66",
      "metadata": {
        "tags": []
      },
      "outputs": [],
      "source": [
        "ttl_string = \"\"\"\n",
        "\n",
        "@prefix : <https://ld.di.digisus-lab.ch/>.\n",
        "@prefix schema: <http://schema.org/>.\n",
        "@prefix xsd: <http://www.w3.org/2001/XMLSchema#>.\n",
        "\n",
        "\"\"\"\n",
        "\n",
        "plot = parse_and_plot(ttl_string)\n",
        "display(plot)"
      ]
    },
    {
      "cell_type": "markdown",
      "id": "b58bf357-42c7-4e84-865e-6743282f15ff",
      "metadata": {},
      "source": [
        "## SPARQL Base Query"
      ]
    },
    {
      "cell_type": "code",
      "execution_count": null,
      "id": "a86f0a57-079d-4159-8756-3ae2feccb61b",
      "metadata": {},
      "outputs": [],
      "source": [
        "query_string = \"\"\"\n",
        "\n",
        "PREFIX : <https://ld.di.digisus-lab.ch/>\n",
        "PREFIX schema: <http://schema.org/>\n",
        "PREFIX xsd: <http://www.w3.org/2001/XMLSchema#>\n",
        "\n",
        "\n",
        "SELECT * WHERE {\n",
        "\n",
        "    ?s ?p ?o.\n",
        "\n",
        "}\n",
        "\n",
        "\"\"\"\n",
        "\n",
        "df = query(ttl_string, query_string)\n",
        "display(df)"
      ]
    }
  ],
  "metadata": {
    "kernelspec": {
      "display_name": "Python (Pyodide)",
      "language": "python",
      "name": "python"
    },
    "language_info": {
      "codemirror_mode": {
        "name": "python",
        "version": 3
      },
      "file_extension": ".py",
      "mimetype": "text/x-python",
      "name": "python",
      "nbconvert_exporter": "python",
      "pygments_lexer": "ipython3",
      "version": "3.8"
    },
    "toc-autonumbering": true
  },
  "nbformat": 4,
  "nbformat_minor": 5
}
