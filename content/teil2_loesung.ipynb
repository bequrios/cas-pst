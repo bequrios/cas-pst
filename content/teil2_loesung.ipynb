{
  "cells": [
    {
      "cell_type": "markdown",
      "id": "b2fab331",
      "metadata": {},
      "source": [
        "# RDF - Turtle - SPARQL Sandbox\n",
        "\n",
        "In diesem Jupyter Notebook können \"Hands-On\" Erfahrungen mit RDF, Turtle und SPARQL gesammelt werden. Dabei kann nichts \"kaputt\" gehen..."
      ]
    },
    {
      "cell_type": "markdown",
      "id": "9a10c98c",
      "metadata": {},
      "source": [
        "## Nötige Module importieren\n",
        "\n",
        "Das Ausführen der nächsten Zelle dauert beim ersten mal rund 1 Minute. Jede weitere Ausführung ist dann aber deutlich schneller..."
      ]
    },
    {
      "cell_type": "code",
      "execution_count": null,
      "id": "92cba32f",
      "metadata": {},
      "outputs": [],
      "source": [
        "%pip install -q ipywidgets==8.1.1 ipycytoscape networkx rdflib\n",
        "import rdflib\n",
        "import ipycytoscape as cy\n",
        "import networkx as nx\n",
        "import pandas as pd\n",
        "import requests\n",
        "from IPython.display import HTML\n",
        "import urllib3\n",
        "from ext.rdf import parse_and_plot, local_query, remote_query, display_result"
      ]
    },
    {
      "cell_type": "markdown",
      "id": "4c269c90",
      "metadata": {},
      "source": [
        "## Grundlagendokumente\n",
        "\n",
        "Diese technischen Dokumente sind sehr lesenwert (und für Spezifikationen auch erstaunlich leserlich geschrieben):\n",
        "\n",
        "- [RDF Primer](https://www.w3.org/TR/rdf11-primer/)\n",
        "- [Turtle](https://www.w3.org/TR/turtle/)\n",
        "- [SPARQL](https://www.w3.org/TR/sparql11-query/)"
      ]
    },
    {
      "cell_type": "markdown",
      "id": "e92d3430",
      "metadata": {},
      "source": [
        "## SPARQL\n",
        "\n",
        "Mit Hilfe von SPARQL Queries können RDF Daten abgefragt werden. Im Grundprinzip gibt man Query Patterns vor, die in den RDF Daten gesucht werden. Diese RDF Daten können von einem lokalen File kommen, oder von einem Triple Store, auf den über das Internet zugegriffen wird."
      ]
    },
    {
      "cell_type": "markdown",
      "id": "788bfe64",
      "metadata": {},
      "source": [
        "### Universale Query auf lokale Daten\n",
        "\n",
        "Die nachfolgende Query ist die *universale Query*, die alle Triples in den Daten zurückgibt:"
      ]
    },
    {
      "cell_type": "code",
      "execution_count": null,
      "id": "56c7385b",
      "metadata": {},
      "outputs": [],
      "source": [
        "ttl_string = \"\"\"\n",
        "\n",
        "@prefix ex: <https://example.com/> .\n",
        "@prefix xsd: <http://www.w3.org/2001/XMLSchema#> .\n",
        "\n",
        "ex:KingCharles ex:hasChild ex:PrinceHarry ;\n",
        "    ex:isKingOf ex:England ;\n",
        "    ex:hasMother ex:QueenElizabeth ;\n",
        "    ex:numberOfChildren 2 ;\n",
        "    ex:fullName \"Charles Philip Arthur George\" ;\n",
        "    ex:birthDate \"1948-11-14\"^^xsd:date .\n",
        "\n",
        "ex:PrinceHarry ex:hasSibling ex:PrinceWilliam.\n",
        "ex:QueenElizabeth ex:hasChild ex:KingCharles.\n",
        "ex:PrinceWilliam ex:hasSibling ex:PrinceHarry;\n",
        "    ex:livesIn ex:England.\n",
        "\n",
        "\"\"\"\n",
        "\n",
        "plot = parse_and_plot(ttl_string)\n",
        "display(plot)\n",
        "\n",
        "query_string = \"\"\"\n",
        "\n",
        "SELECT * WHERE {\n",
        "\n",
        "    ?s ?p ?o .\n",
        "\n",
        "}\n",
        "\n",
        "\"\"\"\n",
        "\n",
        "df = local_query(ttl_string, query_string)\n",
        "display_result(df)"
      ]
    },
    {
      "cell_type": "markdown",
      "id": "fdd8f67c",
      "metadata": {},
      "source": [
        "### Abfrage nach bestimmtem Prädikat\n",
        "\n",
        "Nachfolgende Query gibt alle Subjekte und Prädikate zurück, die über eine `ex:hasSibling` Verbindung verfügen:"
      ]
    },
    {
      "cell_type": "code",
      "execution_count": null,
      "id": "496ec1e3",
      "metadata": {},
      "outputs": [],
      "source": [
        "ttl_string = \"\"\"\n",
        "\n",
        "@prefix ex: <https://example.com/> .\n",
        "@prefix xsd: <http://www.w3.org/2001/XMLSchema#> .\n",
        "\n",
        "ex:KingCharles ex:hasChild ex:PrinceHarry ;\n",
        "    ex:isKingOf ex:England ;\n",
        "    ex:hasMother ex:QueenElizabeth ;\n",
        "    ex:numberOfChildren 2 ;\n",
        "    ex:fullName \"Charles Philip Arthur George\" ;\n",
        "    ex:birthDate \"1948-11-14\"^^xsd:date .\n",
        "\n",
        "ex:PrinceHarry ex:hasSibling ex:PrinceWilliam.\n",
        "ex:QueenElizabeth ex:hasChild ex:KingCharles.\n",
        "ex:PrinceWilliam ex:hasSibling ex:PrinceHarry;\n",
        "    ex:livesIn ex:England.\n",
        "\n",
        "\"\"\"\n",
        "\n",
        "plot = parse_and_plot(ttl_string)\n",
        "display(plot)\n",
        "\n",
        "query_string = \"\"\"\n",
        "\n",
        "PREFIX ex: <https://example.com/>\n",
        "\n",
        "SELECT * WHERE {\n",
        "\n",
        "    ?s ex:hasSibling ?o .\n",
        "\n",
        "}\n",
        "\n",
        "\"\"\"\n",
        "\n",
        "df = local_query(ttl_string, query_string)\n",
        "display_result(df)"
      ]
    },
    {
      "cell_type": "markdown",
      "id": "f75b14d5",
      "metadata": {},
      "source": [
        "### Remote Daten abfragen\n",
        "\n",
        "Folgende Query gibt alle Kantone zurück, die bei Lindas gespeichert sind:"
      ]
    },
    {
      "cell_type": "code",
      "execution_count": null,
      "id": "342ffa47",
      "metadata": {},
      "outputs": [],
      "source": [
        "query_string = \"\"\"\n",
        "\n",
        "PREFIX rdf: <http://www.w3.org/1999/02/22-rdf-syntax-ns#>\n",
        "\n",
        "SELECT * WHERE {\n",
        "\n",
        "    ?canton rdf:type <https://schema.ld.admin.ch/Canton>  .\n",
        "\n",
        "}\n",
        "\n",
        "\"\"\"\n",
        "\n",
        "df = remote_query(query_string, \"https://ld.admin.ch/query\")\n",
        "display_result(df)"
      ]
    },
    {
      "cell_type": "markdown",
      "id": "cb600323",
      "metadata": {},
      "source": [
        "Da `rdf:type` ein so häufiges Prädikat ist, gibt es dafür die Abkürzung `a`:"
      ]
    },
    {
      "cell_type": "code",
      "execution_count": null,
      "id": "d3d190ac",
      "metadata": {},
      "outputs": [],
      "source": [
        "query_string = \"\"\"\n",
        "\n",
        "SELECT * WHERE {\n",
        "\n",
        "    ?canton a <https://schema.ld.admin.ch/Canton>  .\n",
        "\n",
        "}\n",
        "\n",
        "\"\"\"\n",
        "\n",
        "df = remote_query(query_string, \"https://ld.admin.ch/query\")\n",
        "display_result(df)"
      ]
    }
  ],
  "metadata": {
    "kernelspec": {
      "display_name": "Python (Pyodide)",
      "language": "python",
      "name": "python"
    },
    "language_info": {
      "codemirror_mode": {
        "name": "python",
        "version": 3
      },
      "file_extension": ".py",
      "mimetype": "text/x-python",
      "name": "python",
      "nbconvert_exporter": "python",
      "pygments_lexer": "ipython3",
      "version": "3.8"
    },
    "toc-autonumbering": true
  },
  "nbformat": 4,
  "nbformat_minor": 5
}
