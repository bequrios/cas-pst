{
  "cells": [
    {
      "cell_type": "markdown",
      "id": "b2fab331",
      "metadata": {},
      "source": [
        "# RDF - Turtle - SPARQL Sandbox\n",
        "\n",
        "In diesem Jupyter Notebook können \"Hands-On\" Erfahrungen mit RDF, Turtle und SPARQL gesammelt werden. Dabei kann nichts \"kaputt\" gehen..."
      ]
    },
    {
      "cell_type": "markdown",
      "id": "9a10c98c",
      "metadata": {},
      "source": [
        "## Nötige Module importieren\n",
        "\n",
        "Das Ausführen der nächsten Zelle dauert beim ersten mal rund 1 Minute. Jede weitere Ausführung ist dann aber deutlich schneller..."
      ]
    },
    {
      "cell_type": "code",
      "execution_count": null,
      "id": "92cba32f",
      "metadata": {},
      "outputs": [],
      "source": [
        "%pip install -q ipywidgets==8.1.1 ipycytoscape networkx rdflib\n",
        "import rdflib\n",
        "import ipycytoscape as cy\n",
        "import networkx as nx\n",
        "import pandas as pd\n",
        "from ext.rdf import parse_and_plot"
      ]
    },
    {
      "cell_type": "markdown",
      "id": "4c269c90",
      "metadata": {},
      "source": [
        "## Grundlagendokumente\n",
        "\n",
        "Diese technischen Dokumente sind sehr lesenwert (und für Spezifikationen auch erstaunlich leserlich geschrieben):\n",
        "\n",
        "- [RDF Primer](https://www.w3.org/TR/rdf11-primer/)\n",
        "- [Turtle](https://www.w3.org/TR/turtle/)\n",
        "- [SPARQL](https://www.w3.org/TR/sparql11-query/)"
      ]
    },
    {
      "cell_type": "markdown",
      "id": "1815a3cb",
      "metadata": {},
      "source": [
        "## Turtle\n",
        "\n",
        "Turtle ist eine Möglichkeit, RDF zu serialisieren, also ein möglicher Syntax, um RDF Daten zu schreiben (und auch in einer Datenbank zu speichern). Um die Graph-Struktur hinter den RDF Daten zu sehen, werden diese jeweils direkt visualisiert, somit kann man auch gut erkennen, ob die Daten dem entsprechen, was beabsichtigt war."
      ]
    },
    {
      "cell_type": "markdown",
      "id": "986d1269",
      "metadata": {},
      "source": [
        "### Erstes einfaches Turtle\n",
        "\n",
        "In der nachfolgenden Zelle sind drei Triples, die einen einfachen Graphen bilden."
      ]
    },
    {
      "cell_type": "code",
      "execution_count": null,
      "id": "b5962339",
      "metadata": {},
      "outputs": [],
      "source": [
        "ttl_string = \"\"\"\n",
        "\n",
        "<https://example.com/KingCharles> <https://example.com/hasChild> <https://example.com/PrinceHarry> .\n",
        "<https://example.com/KingCharles> <https://example.com/isKingOf> <https://example.com/England> .\n",
        "<https://example.com/KingCharles> <https://example.com/hasMother> <https://example.com/QueenElizabeth> .\n",
        "\n",
        "\"\"\"\n",
        "\n",
        "plot = parse_and_plot(ttl_string)\n",
        "display(plot)"
      ]
    },
    {
      "cell_type": "markdown",
      "id": "f22ebce3",
      "metadata": {},
      "source": [
        "### Aufgabe 1\n",
        "\n",
        "Schreibe in der nachfolgenden Zelle Triples für folgende Aussagen:\n",
        "\n",
        "- Karin Keller-Sutter gehört dem Bundesrat an\n",
        "- Karin Keller-Sutter ist in der FDP\n",
        "- Karin Keller-Sutter wurde in Niederuzwil geboren"
      ]
    },
    {
      "cell_type": "code",
      "execution_count": null,
      "id": "2daca8f9",
      "metadata": {},
      "outputs": [],
      "source": [
        "ttl_string = \"\"\"\n",
        "\n",
        "<https://example.com/KarinKellerSutter> <https://example.com/mitgliedVon> <https://example.com/Bundesrat> .\n",
        "<https://example.com/KarinKellerSutter> <https://example.com/inPartei> <https://example.com/FDP> .\n",
        "<https://example.com/KarinKellerSutter> <https://example.com/geborenIn> <https://example.com/Niederuzwil> .\n",
        "\n",
        "\"\"\"\n",
        "\n",
        "plot = parse_and_plot(ttl_string)\n",
        "display(plot)"
      ]
    },
    {
      "cell_type": "markdown",
      "id": "f4a76a58",
      "metadata": {},
      "source": [
        "### Prefix und Subjektwiederholung\n",
        "\n",
        "Nachfolgende Zelle zeig zwei Vereinfachungen anhand der Informationen über King Charles:\n",
        "\n",
        "- Nutzung eines Prefix `ex:` als Abkürzung für `https://example.com/`\n",
        "- Auslassung des Subjekts, falls es wiederholt wird (Zeile vorher hört dann mit `;` auf statt `.`)"
      ]
    },
    {
      "cell_type": "code",
      "execution_count": null,
      "id": "d4dd0a63",
      "metadata": {},
      "outputs": [],
      "source": [
        "ttl_string = \"\"\"\n",
        "\n",
        "@prefix ex: <https://example.com/> .\n",
        "\n",
        "ex:KingCharles ex:hasChild ex:PrinceHarry ;\n",
        "    ex:isKingOf ex:England ;\n",
        "    ex:hasMother ex:QueenElizabeth .\n",
        "\n",
        "\"\"\"\n",
        "\n",
        "plot = parse_and_plot(ttl_string)\n",
        "display(plot)"
      ]
    },
    {
      "cell_type": "markdown",
      "id": "492c7acf",
      "metadata": {},
      "source": [
        "### Aufgabe 2\n",
        "\n",
        "Schreibe die Triples aus Aufgabe 1 mit Prefix und wiederhole gleiche Subjekte nicht."
      ]
    },
    {
      "cell_type": "code",
      "execution_count": null,
      "id": "d212dbc5",
      "metadata": {},
      "outputs": [],
      "source": [
        "ttl_string = \"\"\"\n",
        "\n",
        "@prefix ex: <https://example.com/> .\n",
        "\n",
        "ex:KarinKellerSutter ex:mitgliedVon ex:Bundesrat ;\n",
        "    ex:inPartei ex:FDP ;\n",
        "    ex:geborenIn ex:Niederuzwil .\n",
        "\n",
        "\"\"\"\n",
        "\n",
        "plot = parse_and_plot(ttl_string)\n",
        "display(plot)"
      ]
    },
    {
      "cell_type": "markdown",
      "id": "203ca9a6",
      "metadata": {},
      "source": [
        "### String Literals\n",
        "\n",
        "Nachfolgende Zelle zeigt den Einsatz von String Literals:\n",
        "\n",
        "- Zahlen können ohne `\"\"` geschrieben werden\n",
        "- Für Zeichenketten braucht es `\"\"`\n",
        "- Spezifische Datentypen können mit `^^URI` angehängt werden"
      ]
    },
    {
      "cell_type": "code",
      "execution_count": null,
      "metadata": {},
      "outputs": [],
      "source": [
        "ttl_string = \"\"\"\n",
        "\n",
        "@prefix ex: <https://example.com/> .\n",
        "@prefix xsd: <http://www.w3.org/2001/XMLSchema#> .\n",
        "\n",
        "ex:KingCharles ex:hasChild ex:PrinceHarry ;\n",
        "    ex:isKingOf ex:England ;\n",
        "    ex:hasMother ex:QueenElizabeth ;\n",
        "    ex:numberOfChildren 2 ;\n",
        "    ex:fullName \"Charles Philip Arthur George\" ;\n",
        "    ex:birthDate \"1948-11-14\"^^xsd:date .\n",
        "\n",
        "\"\"\"\n",
        "\n",
        "plot = parse_and_plot(ttl_string)\n",
        "display(plot)"
      ]
    },
    {
      "cell_type": "markdown",
      "id": "032d0e33",
      "metadata": {},
      "source": [
        "### Aufgabe 3\n",
        "\n",
        "Erweitere die Triples aus Aufgabe 2 um folgende Informationen\n",
        "\n",
        "- Karin Keller-Sutter hat eine Beliebtheit von 4.56\n",
        "- Sie trägt den vollen Namen \"Karin Maria Keller-Sutter\"\n",
        "- Sie wurde am 22. Dezember 1963 geboren"
      ]
    },
    {
      "cell_type": "code",
      "execution_count": null,
      "id": "8f1ee3e4",
      "metadata": {},
      "outputs": [],
      "source": [
        "ttl_string = \"\"\"\n",
        "\n",
        "@prefix ex: <https://example.com/> .\n",
        "@prefix xsd: <http://www.w3.org/2001/XMLSchema#> .\n",
        "\n",
        "ex:KarinKellerSutter ex:mitgliedVon ex:Bundesrat ;\n",
        "    ex:inPartei ex:FDP ;\n",
        "    ex:geborenIn ex:Niederuzwil ;\n",
        "    ex:beliebtheit 4.56 ;\n",
        "    ex:vollerName \"Karin Maria Keller-Sutter\" ;\n",
        "    ex:geburtsdatum \"1963-12-22\"^^xsd:date .\n",
        "\n",
        "\"\"\"\n",
        "\n",
        "plot = parse_and_plot(ttl_string)\n",
        "display(plot)"
      ]
    },
    {
      "cell_type": "markdown",
      "id": "954ccc54",
      "metadata": {},
      "source": [
        "### Weitere Subjekte\n",
        "\n",
        "Nachfolgende Zelle zeigt neue Subjekte, die den Graphen etwas interessanter werden lassen:"
      ]
    },
    {
      "cell_type": "code",
      "execution_count": null,
      "id": "4a16fbfb",
      "metadata": {},
      "outputs": [],
      "source": [
        "ttl_string = \"\"\"\n",
        "\n",
        "@prefix ex: <https://example.com/> .\n",
        "@prefix xsd: <http://www.w3.org/2001/XMLSchema#> .\n",
        "\n",
        "ex:KingCharles ex:hasChild ex:PrinceHarry ;\n",
        "    ex:isKingOf ex:England ;\n",
        "    ex:hasMother ex:QueenElizabeth ;\n",
        "    ex:numberOfChildren 2 ;\n",
        "    ex:fullName \"Charles Philip Arthur George\" ;\n",
        "    ex:birthDate \"1948-11-14\"^^xsd:date .\n",
        "\n",
        "ex:PrinceHarry ex:hasSibling ex:PrinceWilliam.\n",
        "ex:QueenElizabeth ex:hasChild ex:KingCharles.\n",
        "ex:PrinceWilliam ex:hasSibling ex:PrinceHarry;\n",
        "    ex:livesIn ex:England.\n",
        "\n",
        "\"\"\"\n",
        "\n",
        "plot = parse_and_plot(ttl_string)\n",
        "display(plot)"
      ]
    },
    {
      "cell_type": "markdown",
      "id": "a868e1cb",
      "metadata": {},
      "source": [
        "### Aufgabe 4\n",
        "\n",
        "Integriere folgende Informationen in deinen Graphen über Karin Keller-Sutter:\n",
        "\n",
        "- Der Name (String) der FDP ist \"FDP.Die Liberalen\"\n",
        "- Niederuzwil ist Teil der Gemeinde Uzwil\n",
        "- Uzwil liegt im Kanton St. Gallen\n",
        "- Der Bundesrat ist die Exekutive der Schweiz\n",
        "- Der Bundesrat hat als Mitglied Karin Keller-Sutter\n",
        "- Die Schweiz hat Bern als Bundesstadt"
      ]
    },
    {
      "cell_type": "code",
      "execution_count": null,
      "id": "3d57f80f",
      "metadata": {},
      "outputs": [],
      "source": [
        "ttl_string = \"\"\"\n",
        "\n",
        "@prefix ex: <https://example.com/> .\n",
        "@prefix xsd: <http://www.w3.org/2001/XMLSchema#> .\n",
        "\n",
        "ex:KarinKellerSutter ex:mitgliedVon ex:Bundesrat ;\n",
        "    ex:inPartei ex:FDP ;\n",
        "    ex:geborenIn ex:Niederuzwil ;\n",
        "    ex:beliebtheit 4.56 ;\n",
        "    ex:vollerName \"Karin Maria Keller-Sutter\" ;\n",
        "    ex:geburtsdatum \"1963-12-22\"^^xsd:date .\n",
        "\n",
        "ex:FDP ex:name \"FDP.Die Liberalen\" .\n",
        "ex:Niederuzwil ex:teilVon ex:Uzwil ;\n",
        "    ex:inKanton ex:SG .\n",
        "ex:Bundesrat ex:exekutiveVon ex:CH ;\n",
        "    ex:hatMitglied ex:KarinKellerSutter .\n",
        "ex:CH ex:hatBundesstadt ex:Bern .\n",
        "\n",
        "\"\"\"\n",
        "\n",
        "plot = parse_and_plot(ttl_string)\n",
        "display(plot)"
      ]
    },
    {
      "cell_type": "markdown",
      "id": "b51252fc",
      "metadata": {},
      "source": [
        "### Nodes zur Gruppierung von Information\n",
        "\n",
        "Manchmal möchte man einer Aussage (einem Triple) noch weitere Metadaten anfügen, wie zum Beispiel von wann bis wann diese Aussage gestimmt hat, auf den ersten Blick ist das nicht ganz klar, wie hier vorzugehen ist. Wenn wir beispielsweise zu King Charles sagen wollen, dass er vom 14.11.1958 bis zum 7.9.2022 Kronprinz war und seit dem 8.9.2022 König, dann könnte man Folgendes probieren:"
      ]
    },
    {
      "cell_type": "code",
      "execution_count": null,
      "id": "d0ab096c",
      "metadata": {},
      "outputs": [],
      "source": [
        "ttl_string = \"\"\"\n",
        "\n",
        "@prefix ex: <https://example.com/> .\n",
        "@prefix xsd: <http://www.w3.org/2001/XMLSchema#> .\n",
        "\n",
        "ex:KingCharles ex:hasRole ex:CrownPrince ;\n",
        "    ex:hasRole ex:King;\n",
        "    ex:startedRole \"1958-11-14\"^^xsd:date;\n",
        "    ex:endedRole \"2022-09-07\"^^xsd:date;\n",
        "    ex:startedRole \"2022-09-08\"^^xsd:date.\n",
        "\n",
        "\"\"\"\n",
        "\n",
        "plot = parse_and_plot(ttl_string)\n",
        "display(plot)"
      ]
    },
    {
      "cell_type": "markdown",
      "id": "34edfed9",
      "metadata": {},
      "source": [
        "aber damit ist nicht klar, auf welche Rollen sich die Daten beziehen, eine andere Möglichkeit wäre:"
      ]
    },
    {
      "cell_type": "code",
      "execution_count": null,
      "id": "b5ecedbd",
      "metadata": {},
      "outputs": [],
      "source": [
        "ttl_string = \"\"\"\n",
        "\n",
        "@prefix ex: <https://example.com/> .\n",
        "@prefix xsd: <http://www.w3.org/2001/XMLSchema#> .\n",
        "\n",
        "ex:KingCharles ex:hasRole ex:CrownPrince ;\n",
        "    ex:hasRole ex:King .\n",
        "ex:CrownPrince ex:begin \"1958-11-14\"^^xsd:date ;\n",
        "    ex:end \"2022-09-07\"^^xsd:date .\n",
        "ex:King ex:begin \"2022-09-08\"^^xsd:date .\n",
        "\n",
        "\"\"\"\n",
        "\n",
        "plot = parse_and_plot(ttl_string)\n",
        "display(plot)"
      ]
    },
    {
      "cell_type": "markdown",
      "id": "95a95ab8",
      "metadata": {},
      "source": [
        "aber auch das wird zum Problem, spätestens wenn weitere Personen das Amt des Köngis oder Kronprinzen bekleiden, dann stimmen die Daten wieder nicht (ex:King ist ja einfach eine Entität König, da ist noch keine spezifische Person damit gemeint). Es braucht also eine andere Lösung..."
      ]
    },
    {
      "cell_type": "markdown",
      "id": "3ef4bf79",
      "metadata": {},
      "source": [
        "### Aufgabe 5\n",
        "\n",
        "Versuche folgende Informationen zu Karin Keller-Sutter in RDF zu modellieren:\n",
        "\n",
        "- Sie war von 2011-2018 Ständerätin\n",
        "- Sie ist seit 2019 Bundesrätin"
      ]
    },
    {
      "cell_type": "code",
      "execution_count": null,
      "id": "61fcc26d",
      "metadata": {},
      "outputs": [],
      "source": [
        "ttl_string = \"\"\"\n",
        "\n",
        "@prefix ex: <https://example.com/> .\n",
        "@prefix xsd: <http://www.w3.org/2001/XMLSchema#> .\n",
        "\n",
        "ex:KarinKellerSutter ex:hatRolle ex:Rolle1 .\n",
        "ex:Rolle1 ex:beginn \"2011\"^^xsd:year ;\n",
        "    ex:ende \"2018\"^^xsd:year ;\n",
        "    ex:aufgabe ex:Ständerätin .\n",
        "ex:KarinKellerSutter ex:hatRolle ex:Rolle2 .\n",
        "ex:Rolle2 ex:beginn \"2019\"^^xsd:year ;\n",
        "    ex:aufgabe ex:Bundesrätin .\n",
        "\n",
        "\"\"\"\n",
        "\n",
        "plot = parse_and_plot(ttl_string)\n",
        "display(plot)"
      ]
    },
    {
      "cell_type": "markdown",
      "id": "eebd47c0",
      "metadata": {},
      "source": [
        "und für König Charles sähe es so aus:"
      ]
    },
    {
      "cell_type": "code",
      "execution_count": null,
      "id": "8aa8d8c2",
      "metadata": {},
      "outputs": [],
      "source": [
        "ttl_string = \"\"\"\n",
        "\n",
        "@prefix ex: <https://example.com/> .\n",
        "@prefix xsd: <http://www.w3.org/2001/XMLSchema#> .\n",
        "\n",
        "ex:KingCharles ex:hasRole ex:Role1 .\n",
        "ex:Role1 ex:begin \"1958-11-14\"^^xsd:date ;\n",
        "    ex:end \"2022-09-07\"^^xsd:date ;\n",
        "    ex:function ex:CrownPrince .\n",
        "ex:KingCharles ex:hasRole ex:Role2 .\n",
        "ex:Role2 ex:begin \"2022-09-08\"^^xsd:date ;\n",
        "    ex:function ex:King .\n",
        "\n",
        "\"\"\"\n",
        "\n",
        "plot = parse_and_plot(ttl_string)\n",
        "display(plot)"
      ]
    },
    {
      "cell_type": "markdown",
      "id": "f586b60e",
      "metadata": {},
      "source": [
        "### Blank Nodes\n",
        "\n",
        "Diese Nodes zur Gruppierung interessieren ja nicht an und für sich, deshalb kann man sie auch durch sogenannte Blank Nodes ersetzen. Das sind Nodes, die keine eigene URI haben:"
      ]
    },
    {
      "cell_type": "code",
      "execution_count": null,
      "id": "4c95ecb8",
      "metadata": {},
      "outputs": [],
      "source": [
        "ttl_string = \"\"\"\n",
        "\n",
        "@prefix ex: <https://example.com/> .\n",
        "@prefix xsd: <http://www.w3.org/2001/XMLSchema#> .\n",
        "\n",
        "ex:KingCharles ex:hasRole [\n",
        "    ex:begin \"1958-11-14\"^^xsd:date ;\n",
        "    ex:end \"2022-09-07\"^^xsd:date ;\n",
        "    ex:function ex:CrownPrince ] .\n",
        "ex:KingCharles ex:hasRole [\n",
        "    ex:begin \"2022-09-08\"^^xsd:date ;\n",
        "    ex:function ex:King ] .\n",
        "\n",
        "\"\"\"\n",
        "\n",
        "plot = parse_and_plot(ttl_string)\n",
        "display(plot)"
      ]
    },
    {
      "cell_type": "markdown",
      "id": "107a3b93",
      "metadata": {},
      "source": [
        "In der Visualisierung erhalten diese Nodes dann doch wieder eine ID."
      ]
    }
  ],
  "metadata": {
    "kernelspec": {
      "display_name": "Python (Pyodide)",
      "language": "python",
      "name": "python"
    },
    "language_info": {
      "codemirror_mode": {
        "name": "python",
        "version": 3
      },
      "file_extension": ".py",
      "mimetype": "text/x-python",
      "name": "python",
      "nbconvert_exporter": "python",
      "pygments_lexer": "ipython3",
      "version": "3.8"
    },
    "toc-autonumbering": true
  },
  "nbformat": 4,
  "nbformat_minor": 5
}
