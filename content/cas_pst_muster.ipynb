{
  "metadata": {
    "toc-autonumbering": true,
    "kernelspec": {
      "name": "python",
      "display_name": "Python (Pyodide)",
      "language": "python"
    },
    "language_info": {
      "codemirror_mode": {
        "name": "python",
        "version": 3
      },
      "file_extension": ".py",
      "mimetype": "text/x-python",
      "name": "python",
      "nbconvert_exporter": "python",
      "pygments_lexer": "ipython3",
      "version": "3.8"
    }
  },
  "nbformat_minor": 5,
  "nbformat": 4,
  "cells": [
    {
      "cell_type": "markdown",
      "source": "# RDF und SPARQL Sandkasten",
      "metadata": {},
      "id": "32f71f35-78dd-4261-899c-9b9ebe7f0bba"
    },
    {
      "cell_type": "code",
      "source": "# nötige Module importieren\n%pip install -q rdflib\nimport rdflib\nimport pandas as pd",
      "metadata": {
        "tags": [],
        "trusted": true
      },
      "execution_count": null,
      "outputs": [],
      "id": "77cd1a38-1b3d-498e-88e1-031ffa885bfd"
    },
    {
      "cell_type": "code",
      "source": "# Funktionsdefinition, um eine Query gegen eine lokale Turtle Datei auszuführen\ndef query(ttl_string, query_string):\n    \n    g = rdflib.Graph()\n    g.parse(data = ttl_string)\n\n    qres = g.query(query_string)\n\n    df = pd.DataFrame(qres, columns=qres.vars)\n    display(df)",
      "metadata": {
        "tags": [],
        "trusted": true
      },
      "execution_count": null,
      "outputs": [],
      "id": "6fd2e44b-cdc2-41cf-8e70-5489a8a644b6"
    },
    {
      "cell_type": "markdown",
      "source": "## Spezifikationen\n\nDiese technischen Dokumente sind sehr lesenwert (und für Spezifikationen auch sehr leserlich geschrieben):\n\n- [RDF Primer](https://www.w3.org/TR/rdf11-primer/)\n- [Turtle](https://www.w3.org/TR/turtle/)\n- [SPARQL](https://www.w3.org/TR/sparql11-query/)",
      "metadata": {},
      "id": "ff308100-6249-4d9a-b68e-03e77edaf108"
    },
    {
      "cell_type": "markdown",
      "source": "## Vanilla TTL\n\nSchreibe ein paar Triples in der Turtle Serialisierung rund um den Politikbetrieb in der Schweiz. Nutze für die URIs `<https://example.com/...>`",
      "metadata": {},
      "id": "f6e04954-00ad-4b7d-94b6-222b880da931"
    },
    {
      "cell_type": "code",
      "source": "ttl_string = \"\"\"\n\n<https://example.com/KarinKeller-Sutter> <https://example.com/position> <https://example.com/Bundesrat>.\n<https://example.com/KarinKeller-Sutter> <https://example.com/partei> <https://example.com/FDP>.\n\n<https://example.com/ViolaAmherd> <https://example.com/position> <https://example.com/Bundesrat>.\n<https://example.com/ViolaAmherd> <https://example.com/partei> <https://example.com/DieMitte>.\n\n<https://example.com/NadineMasshardt> <https://example.com/position> <https://example.com/Nationalrat>.\n<https://example.com/NadineMasshardt> <https://example.com/partei> <https://example.com/SP>.\n<https://example.com/NadineMasshardt> <https://example.com/geborenIn> <https://example.com/AffolternAmAlbis>.\n\n<https://example.com/MayaGraf> <https://example.com/position> <https://example.com/Staenderat>.\n<https://example.com/MayaGraf> <https://example.com/partei> <https://example.com/Gruene>.\n<https://example.com/MayaGraf> <https://example.com/vater> <https://example.com/FritzGraf>.\n\n<https://example.com/FritzGraf> <https://example.com/position> <https://example.com/BaselbieterLandrat>.\n<https://example.com/FritzGraf> <https://example.com/partei> <https://example.com/SVP>.\n<https://example.com/FritzGraf> <https://example.com/kind> <https://example.com/MayaGraf>.\n\n\"\"\"\n\ng = rdflib.Graph()\ng.parse(data = ttl_string)",
      "metadata": {
        "tags": []
      },
      "execution_count": null,
      "outputs": [],
      "id": "96c16dd8-fbcb-47f2-ad8d-eb54eb88b22d"
    },
    {
      "cell_type": "code",
      "source": "query_string = \"\"\"\n\n\nSELECT * WHERE {\n\n    ?br <https://example.com/position> <https://example.com/Bundesrat>.\n\n}\n\n\"\"\"\n\nquery(ttl_string, query_string)",
      "metadata": {
        "tags": []
      },
      "execution_count": null,
      "outputs": [],
      "id": "7f1e4f66-750c-4ca2-acfe-77aa28752913"
    },
    {
      "cell_type": "markdown",
      "source": "## TTL mit Prefix\n\nErsetze in Deinen Triples `<https://example.com/>` durch einen Prefix (am besten den Empty Prefix; [Base vs. Empty Prefix](https://stackoverflow.com/questions/34146707/turtle-difference-between-base-and-empty-prefix))",
      "metadata": {},
      "id": "70fdcde8-925c-4c0e-8c98-22e241b58e1b"
    },
    {
      "cell_type": "code",
      "source": "ttl_string = \"\"\"\n\n@prefix : <https://example.com/>.\n\n:KarinKeller-Sutter :position :Bundesrat.\n:KarinKeller-Sutter :partei :FDP.\n\n:ViolaAmherd :position :Bundesrat.\n:ViolaAmherd :partei :DieMitte.\n\n:NadineMasshardt :position :Nationalrat.\n:NadineMasshardt :partei :SP.\n:NadineMasshardt :geborenIn :AffolternAmAlbis.\n\n:MayaGraf :position :Staenderat.\n:MayaGraf :partei :Gruene.\n:MayaGraf :vater :FritzGraf.\n\n:FritzGraf :position :BaselbieterLandrat.\n:FritzGraf :partei :SVP.\n:FritzGraf :kind :MayaGraf.\n\n\"\"\"",
      "metadata": {},
      "execution_count": null,
      "outputs": [],
      "id": "a2848106-4dec-4da8-a885-863dcd516d1e"
    },
    {
      "cell_type": "code",
      "source": "query_string = \"\"\"\n\nPREFIX : <https://example.com/>\n\n\nSELECT ?vater ?kind WHERE {\n\n    ?vater :kind ?kind.\n\n}\n\n\"\"\"\n\nquery(ttl_string, query_string)",
      "metadata": {
        "tags": []
      },
      "execution_count": null,
      "outputs": [],
      "id": "785512d0-c6ca-4689-95d0-fccf97a79657"
    },
    {
      "cell_type": "markdown",
      "source": "## TTL ohne Wiederholungen\n\nErsetze doppelte Subjekte mit Hilfe von [Prädikat-Listen](https://www.w3.org/TR/turtle/#predicate-lists).",
      "metadata": {},
      "id": "859b946d-664a-40ed-9547-97cf1d5161ce"
    },
    {
      "cell_type": "code",
      "source": "ttl_string = \"\"\"\n\n@prefix : <https://example.com/>.\n\n:KarinKeller-Sutter :position :Bundesrat;\n    :partei :FDP.\n\n:ViolaAmherd :position :Bundesrat;\n    :partei :DieMitte.\n\n:NadineMasshardt :position :Nationalrat;\n    :partei :SP;\n    :geborenIn :AffolternAmAlbis.\n\n:MayaGraf :position :Staenderat;\n    :partei :Gruene;\n    :vater :FritzGraf.\n\n:FritzGraf :position :BaselbieterLandrat;\n    :partei :SVP;\n    :kind :MayaGraf.\n\n\"\"\"",
      "metadata": {
        "tags": []
      },
      "execution_count": null,
      "outputs": [],
      "id": "6044e086-1345-464b-9603-09092e9c35c4"
    },
    {
      "cell_type": "code",
      "source": "query_string = \"\"\"\n\nPREFIX : <https://example.com/>\n\n\nSELECT ?pos (COUNT(?person) as ?count) WHERE {\n\n    ?person :position ?pos.\n\n} GROUP BY ?pos\n\n\"\"\"\n\nquery(ttl_string, query_string)",
      "metadata": {
        "tags": []
      },
      "execution_count": null,
      "outputs": [],
      "id": "93c5482a-3b85-4c22-88de-e61d1022d586"
    },
    {
      "cell_type": "markdown",
      "source": "## TTL mit echter URI",
      "metadata": {},
      "id": "71bb8203-009f-422b-a63b-0b3d1e9f9e04"
    },
    {
      "cell_type": "code",
      "source": "ttl_string = \"\"\"\n\n@prefix : <https://ld.di.digisus-lab.ch/>.\n\n:KarinKeller-Sutter :position :Bundesrat;\n    :partei :FDP.\n\n:ViolaAmherd :position :Bundesrat;\n    :partei :DieMitte.\n\n:NadineMasshardt :position :Nationalrat;\n    :partei :SP;\n    :geborenIn :AffolternAmAlbis.\n\n:MayaGraf :position :Staenderat;\n    :partei :Gruene;\n    :vater :FritzGraf.\n\n:FritzGraf :position :BaselbieterLandrat;\n    :partei :SVP;\n    :kind :MayaGraf.\n\n\"\"\"",
      "metadata": {},
      "execution_count": null,
      "outputs": [],
      "id": "578a8d85-2d14-4d4f-9c30-b50c7b302d0b"
    },
    {
      "cell_type": "code",
      "source": "query_string = \"\"\"\n\nPREFIX : <https://ld.di.digisus-lab.ch/>\n\n\nSELECT ?partei WHERE {\n\n    ?s :partei ?partei.\n\n}\n\n\"\"\"\n\nquery(ttl_string, query_string)",
      "metadata": {
        "tags": []
      },
      "execution_count": null,
      "outputs": [],
      "id": "6a8bbbf7-c429-402d-ad83-b421e2718dfa"
    },
    {
      "cell_type": "markdown",
      "source": "## TTL mit externem Vokabular\n",
      "metadata": {},
      "id": "20f28f27-de2c-4736-9b3f-b35485d8e856"
    },
    {
      "cell_type": "code",
      "source": "ttl_string = \"\"\"\n\n@prefix : <https://ld.di.digisus-lab.ch/>.\n@prefix schema: <http://schema.org/>.\n\n:KarinKeller-Sutter schema:hasOccupation :Bundesrat;\n    :partei :FDP.\n\n:ViolaAmherd schema:hasOccupation :Bundesrat;\n    :partei :DieMitte.\n\n:NadineMasshardt schema:hasOccupation :Nationalrat;\n    :partei :SP;\n    :geborenIn :AffolternAmAlbis.\n\n:MayaGraf schema:hasOccupation :Staenderat;\n    :partei :Gruene;\n    schema:parent :FritzGraf.\n\n:FritzGraf schema:hasOccupation :BaselbieterLandrat;\n    :partei :SVP;\n    schema:children :MayaGraf.\n\n\"\"\"",
      "metadata": {
        "tags": []
      },
      "execution_count": null,
      "outputs": [],
      "id": "34909624-06ef-4adc-84b1-28d1549673d8"
    },
    {
      "cell_type": "markdown",
      "source": "## TTL mit Literals",
      "metadata": {},
      "id": "bca09816-cbe7-4418-86d4-d14edf8f8eef"
    },
    {
      "cell_type": "code",
      "source": "ttl_string = \"\"\"\n\n@prefix : <https://ld.di.digisus-lab.ch/>.\n@prefix schema: <http://schema.org/>.\n@prefix xsd: <http://www.w3.org/2001/XMLSchema#>.\n\n:KarinKeller-Sutter schema:hasOccupation :Bundesrat;\n    :partei :FDP;\n    :anzahlGeschwister 3.\n\n:ViolaAmherd schema:hasOccupation :Bundesrat;\n    :partei :DieMitte;\n    :vollerName \"Viola Patricia Amherd\".\n\n:NadineMasshardt schema:hasOccupation :Nationalrat;\n    :partei :SP;\n    :geborenIn :AffolternAmAlbis;\n    schema:birthDate \"1984-10-04\"^^xsd:date.\n\n:MayaGraf schema:hasOccupation :Staenderat;\n    :partei :Gruene;\n    schema:parent :FritzGraf.\n\n:FritzGraf schema:hasOccupation :BaselbieterLandrat;\n    :partei :SVP;\n    schema:children :MayaGraf.\n\n\"\"\"",
      "metadata": {
        "tags": []
      },
      "execution_count": null,
      "outputs": [],
      "id": "ec354931-eaba-441e-8ada-fc5cfd36c1a4"
    },
    {
      "cell_type": "code",
      "source": "query_string = \"\"\"\n\nPREFIX : <https://ld.di.digisus-lab.ch/>\nPREFIX schema: <http://schema.org/>\nPREFIX xsd: <http://www.w3.org/2001/XMLSchema#>\n\n\nSELECT ?o WHERE {\n\n    ?s ?p ?o.\n    \n    FILTER(ISLITERAL(?o)).\n\n}\n\n\"\"\"\n\nquery(ttl_string, query_string)",
      "metadata": {
        "tags": []
      },
      "execution_count": null,
      "outputs": [],
      "id": "80b39008-11af-4c3c-875b-7a2acdc80ecd"
    },
    {
      "cell_type": "markdown",
      "source": "## TTL mit Blank Nodes",
      "metadata": {},
      "id": "d2456596-6894-4dcc-b32d-e1f5396b1aba"
    },
    {
      "cell_type": "code",
      "source": "ttl_string = \"\"\"\n\n@prefix : <https://ld.di.digisus-lab.ch/>.\n@prefix schema: <http://schema.org/>.\n@prefix xsd: <http://www.w3.org/2001/XMLSchema#>.\n\n\n:Zuerich :population :zh_pop.\n:zh_pop :number 423193;\n    :valid \"2021-12-31\"^^xsd:date.\n\n:Bern :population [\n    :number 134290;\n    :valid \"2021-12-31\"^^xsd:date ].\n\n\"\"\"",
      "metadata": {
        "tags": []
      },
      "execution_count": null,
      "outputs": [],
      "id": "5e2d4cea-526c-4788-96f6-0dee5438fb66"
    },
    {
      "cell_type": "code",
      "source": "query_string = \"\"\"\n\nPREFIX : <https://ld.di.digisus-lab.ch/>\nPREFIX schema: <http://schema.org/>\nPREFIX xsd: <http://www.w3.org/2001/XMLSchema#>\n\n\nSELECT * WHERE {\n\n    ?city :population ?pop.\n    ?pop :number ?number.\n\n}\n\n\"\"\"\n\nquery(ttl_string, query_string)",
      "metadata": {
        "tags": []
      },
      "execution_count": null,
      "outputs": [],
      "id": "74286ee4-9144-42c5-81a8-5395dcc27fc6"
    },
    {
      "cell_type": "code",
      "source": "query_string = \"\"\"\n\nPREFIX : <https://ld.di.digisus-lab.ch/>\nPREFIX schema: <http://schema.org/>\nPREFIX xsd: <http://www.w3.org/2001/XMLSchema#>\n\n\nSELECT * WHERE {\n\n    ?city :population/:number ?number.\n\n}\n\n\"\"\"\n\nquery(ttl_string, query_string)",
      "metadata": {
        "tags": []
      },
      "execution_count": null,
      "outputs": [],
      "id": "2dd6c33c-fda2-4365-842a-1c7a61bcb372"
    },
    {
      "cell_type": "markdown",
      "source": "## OWL",
      "metadata": {},
      "id": "aad362b0-7472-454a-bc22-21e4a199718b"
    },
    {
      "cell_type": "code",
      "source": "ttl_string = \"\"\"\n\n@prefix : <https://ld.di.digisus-lab.ch/>.\n@prefix schema: <http://schema.org/>.\n@prefix xsd: <http://www.w3.org/2001/XMLSchema#>.\n@prefix owl: <http://www.w3.org/2002/07/owl#>.\n\n:KarinKeller-Sutter a :Bundesrat;\n    :partei :FDP;\n    :anzahlGeschwister 3.\n\n:ViolaAmherd a :Bundesrat;\n    :partei :DieMitte;\n    :vollerName \"Viola Patricia Amherd\".\n\n:NadineMasshardt a :Nationalrat;\n    :partei :SP;\n    :geborenIn :AffolternAmAlbis;\n    schema:birthDate \"1984-10-04\"^^xsd:date.\n\n:MayaGraf a :Staenderat;\n    :partei :Gruene;\n    schema:parent :FritzGraf.\n\n:FritzGraf a :BaselbieterLandrat;\n    :partei :SVP;\n    schema:children :MayaGraf.\n    \n    \n:partei owl:inverseOf :parteimitglied.\n\n:Bundesratspartei owl:equivalentClass [\n    a owl:Restriction;\n    owl:onProperty :parteimitglied;\n    owl:someValuesFrom :Bundesrat ].\n\n\"\"\"",
      "metadata": {},
      "execution_count": null,
      "outputs": [],
      "id": "0db79cde-b5f5-42df-92bd-ab3f594da925"
    },
    {
      "cell_type": "code",
      "source": "query_string = \"\"\"\n\nPREFIX : <https://ld.di.digisus-lab.ch/>\nPREFIX schema: <http://schema.org/>\nPREFIX xsd: <http://www.w3.org/2001/XMLSchema#>\n\n\nSELECT * WHERE {\n\n    ?partei a :Bundesratspartei.\n\n}\n\n\"\"\"\n\nquery(ttl_string, query_string)",
      "metadata": {
        "tags": []
      },
      "execution_count": null,
      "outputs": [],
      "id": "419ea607-a498-4a33-b5ac-4d27ee0b8ddf"
    },
    {
      "cell_type": "markdown",
      "source": "Für OWL Ableitungen braucht es einen \"echten\" Triple Store, siehe bspw. https://ld.di.digisus-lab.ch/DieMitte",
      "metadata": {},
      "id": "b1464bdf-70e3-41f2-9f8f-742aebeaf3ef"
    },
    {
      "cell_type": "markdown",
      "source": "## SPARQL Base Query",
      "metadata": {},
      "id": "b58bf357-42c7-4e84-865e-6743282f15ff"
    },
    {
      "cell_type": "code",
      "source": "query_string = \"\"\"\n\nPREFIX : <https://ld.di.digisus-lab.ch/>\nPREFIX schema: <http://schema.org/>\nPREFIX xsd: <http://www.w3.org/2001/XMLSchema#>\n\n\nSELECT * WHERE {\n\n    ?s ?p ?o.\n\n}\n\n\"\"\"\n\nquery(ttl_string, query_string)",
      "metadata": {},
      "execution_count": null,
      "outputs": [],
      "id": "a86f0a57-079d-4159-8756-3ae2feccb61b"
    }
  ]
}