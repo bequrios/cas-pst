{
 "cells": [
  {
   "cell_type": "markdown",
   "id": "32f71f35-78dd-4261-899c-9b9ebe7f0bba",
   "metadata": {},
   "source": [
    "# RDF und SPARQL Sandkasten"
   ]
  },
  {
   "cell_type": "code",
   "execution_count": null,
   "id": "77cd1a38-1b3d-498e-88e1-031ffa885bfd",
   "metadata": {
    "tags": []
   },
   "outputs": [],
   "source": [
    "# nötige Module importieren\n",
    "import rdflib\n",
    "import pandas as pd"
   ]
  },
  {
   "cell_type": "code",
   "execution_count": null,
   "id": "6fd2e44b-cdc2-41cf-8e70-5489a8a644b6",
   "metadata": {
    "tags": []
   },
   "outputs": [],
   "source": [
    "# Funktionsdefinition, um eine Query gegen eine lokale Turtle Datei auszuführen\n",
    "def query(ttl_string, query_string):\n",
    "    \n",
    "    g = rdflib.Graph()\n",
    "    g.parse(data = ttl_string)\n",
    "\n",
    "    qres = g.query(query_string)\n",
    "\n",
    "    df = pd.DataFrame(qres, columns=qres.vars)\n",
    "    display(df)"
   ]
  },
  {
   "cell_type": "markdown",
   "id": "ff308100-6249-4d9a-b68e-03e77edaf108",
   "metadata": {},
   "source": [
    "## Spezifikationen\n",
    "\n",
    "Diese technischen Dokumente sind sehr lesenwert (und für Spezifikationen auch sehr leserlich geschrieben):\n",
    "\n",
    "- [RDF Primer](https://www.w3.org/TR/rdf11-primer/)\n",
    "- [Turtle](https://www.w3.org/TR/turtle/)\n",
    "- [SPARQL](https://www.w3.org/TR/sparql11-query/)"
   ]
  },
  {
   "cell_type": "markdown",
   "id": "f6e04954-00ad-4b7d-94b6-222b880da931",
   "metadata": {},
   "source": [
    "## Vanilla TTL\n",
    "\n",
    "Schreibe ein paar Triples in der Turtle Serialisierung rund um den Politikbetrieb in der Schweiz. Nutze für die URIs `<https://example.com/...>`"
   ]
  },
  {
   "cell_type": "code",
   "execution_count": null,
   "id": "96c16dd8-fbcb-47f2-ad8d-eb54eb88b22d",
   "metadata": {
    "tags": []
   },
   "outputs": [],
   "source": [
    "ttl_string = \"\"\"\n",
    "\n",
    "<https://example.com/KarinKeller-Sutter> <https://example.com/position> <https://example.com/Bundesrat>.\n",
    "<https://example.com/KarinKeller-Sutter> <https://example.com/partei> <https://example.com/FDP>.\n",
    "\n",
    "<https://example.com/ViolaAmherd> <https://example.com/position> <https://example.com/Bundesrat>.\n",
    "<https://example.com/ViolaAmherd> <https://example.com/partei> <https://example.com/DieMitte>.\n",
    "\n",
    "<https://example.com/NadineMasshardt> <https://example.com/position> <https://example.com/Nationalrat>.\n",
    "<https://example.com/NadineMasshardt> <https://example.com/partei> <https://example.com/SP>.\n",
    "<https://example.com/NadineMasshardt> <https://example.com/geborenIn> <https://example.com/AffolternAmAlbis>.\n",
    "\n",
    "<https://example.com/MayaGraf> <https://example.com/position> <https://example.com/Staenderat>.\n",
    "<https://example.com/MayaGraf> <https://example.com/partei> <https://example.com/Gruene>.\n",
    "<https://example.com/MayaGraf> <https://example.com/vater> <https://example.com/FritzGraf>.\n",
    "\n",
    "<https://example.com/FritzGraf> <https://example.com/position> <https://example.com/BaselbieterLandrat>.\n",
    "<https://example.com/FritzGraf> <https://example.com/partei> <https://example.com/SVP>.\n",
    "<https://example.com/FritzGraf> <https://example.com/kind> <https://example.com/MayaGraf>.\n",
    "\n",
    "\"\"\"\n",
    "\n",
    "g = rdflib.Graph()\n",
    "g.parse(data = ttl_string)"
   ]
  },
  {
   "cell_type": "code",
   "execution_count": null,
   "id": "7f1e4f66-750c-4ca2-acfe-77aa28752913",
   "metadata": {
    "tags": []
   },
   "outputs": [],
   "source": [
    "query_string = \"\"\"\n",
    "\n",
    "\n",
    "SELECT * WHERE {\n",
    "\n",
    "    ?br <https://example.com/position> <https://example.com/Bundesrat>.\n",
    "\n",
    "}\n",
    "\n",
    "\"\"\"\n",
    "\n",
    "query(ttl_string, query_string)"
   ]
  },
  {
   "cell_type": "markdown",
   "id": "70fdcde8-925c-4c0e-8c98-22e241b58e1b",
   "metadata": {},
   "source": [
    "## TTL mit Prefix\n",
    "\n",
    "Ersetze in Deinen Triples `<https://example.com/>` durch einen Prefix (am besten den Empty Prefix; [Base vs. Empty Prefix](https://stackoverflow.com/questions/34146707/turtle-difference-between-base-and-empty-prefix))"
   ]
  },
  {
   "cell_type": "code",
   "execution_count": null,
   "id": "a2848106-4dec-4da8-a885-863dcd516d1e",
   "metadata": {},
   "outputs": [],
   "source": [
    "ttl_string = \"\"\"\n",
    "\n",
    "@prefix : <https://example.com/>.\n",
    "\n",
    ":KarinKeller-Sutter :position :Bundesrat.\n",
    ":KarinKeller-Sutter :partei :FDP.\n",
    "\n",
    ":ViolaAmherd :position :Bundesrat.\n",
    ":ViolaAmherd :partei :DieMitte.\n",
    "\n",
    ":NadineMasshardt :position :Nationalrat.\n",
    ":NadineMasshardt :partei :SP.\n",
    ":NadineMasshardt :geborenIn :AffolternAmAlbis.\n",
    "\n",
    ":MayaGraf :position :Staenderat.\n",
    ":MayaGraf :partei :Gruene.\n",
    ":MayaGraf :vater :FritzGraf.\n",
    "\n",
    ":FritzGraf :position :BaselbieterLandrat.\n",
    ":FritzGraf :partei :SVP.\n",
    ":FritzGraf :kind :MayaGraf.\n",
    "\n",
    "\"\"\""
   ]
  },
  {
   "cell_type": "code",
   "execution_count": null,
   "id": "785512d0-c6ca-4689-95d0-fccf97a79657",
   "metadata": {
    "tags": []
   },
   "outputs": [],
   "source": [
    "query_string = \"\"\"\n",
    "\n",
    "PREFIX : <https://example.com/>\n",
    "\n",
    "\n",
    "SELECT ?vater ?kind WHERE {\n",
    "\n",
    "    ?vater :kind ?kind.\n",
    "\n",
    "}\n",
    "\n",
    "\"\"\"\n",
    "\n",
    "query(ttl_string, query_string)"
   ]
  },
  {
   "cell_type": "markdown",
   "id": "859b946d-664a-40ed-9547-97cf1d5161ce",
   "metadata": {},
   "source": [
    "## TTL ohne Wiederholungen\n",
    "\n",
    "Ersetze doppelte Subjekte mit Hilfe von [Prädikat-Listen](https://www.w3.org/TR/turtle/#predicate-lists)."
   ]
  },
  {
   "cell_type": "code",
   "execution_count": null,
   "id": "6044e086-1345-464b-9603-09092e9c35c4",
   "metadata": {
    "tags": []
   },
   "outputs": [],
   "source": [
    "ttl_string = \"\"\"\n",
    "\n",
    "@prefix : <https://example.com/>.\n",
    "\n",
    ":KarinKeller-Sutter :position :Bundesrat;\n",
    "    :partei :FDP.\n",
    "\n",
    ":ViolaAmherd :position :Bundesrat;\n",
    "    :partei :DieMitte.\n",
    "\n",
    ":NadineMasshardt :position :Nationalrat;\n",
    "    :partei :SP;\n",
    "    :geborenIn :AffolternAmAlbis.\n",
    "\n",
    ":MayaGraf :position :Staenderat;\n",
    "    :partei :Gruene;\n",
    "    :vater :FritzGraf.\n",
    "\n",
    ":FritzGraf :position :BaselbieterLandrat;\n",
    "    :partei :SVP;\n",
    "    :kind :MayaGraf.\n",
    "\n",
    "\"\"\""
   ]
  },
  {
   "cell_type": "code",
   "execution_count": null,
   "id": "93c5482a-3b85-4c22-88de-e61d1022d586",
   "metadata": {
    "tags": []
   },
   "outputs": [],
   "source": [
    "query_string = \"\"\"\n",
    "\n",
    "PREFIX : <https://example.com/>\n",
    "\n",
    "\n",
    "SELECT ?pos (COUNT(?person) as ?count) WHERE {\n",
    "\n",
    "    ?person :position ?pos.\n",
    "\n",
    "} GROUP BY ?pos\n",
    "\n",
    "\"\"\"\n",
    "\n",
    "query(ttl_string, query_string)"
   ]
  },
  {
   "cell_type": "markdown",
   "id": "71bb8203-009f-422b-a63b-0b3d1e9f9e04",
   "metadata": {},
   "source": [
    "## TTL mit echter URI"
   ]
  },
  {
   "cell_type": "code",
   "execution_count": null,
   "id": "578a8d85-2d14-4d4f-9c30-b50c7b302d0b",
   "metadata": {},
   "outputs": [],
   "source": [
    "ttl_string = \"\"\"\n",
    "\n",
    "@prefix : <https://ld.di.digisus-lab.ch/>.\n",
    "\n",
    ":KarinKeller-Sutter :position :Bundesrat;\n",
    "    :partei :FDP.\n",
    "\n",
    ":ViolaAmherd :position :Bundesrat;\n",
    "    :partei :DieMitte.\n",
    "\n",
    ":NadineMasshardt :position :Nationalrat;\n",
    "    :partei :SP;\n",
    "    :geborenIn :AffolternAmAlbis.\n",
    "\n",
    ":MayaGraf :position :Staenderat;\n",
    "    :partei :Gruene;\n",
    "    :vater :FritzGraf.\n",
    "\n",
    ":FritzGraf :position :BaselbieterLandrat;\n",
    "    :partei :SVP;\n",
    "    :kind :MayaGraf.\n",
    "\n",
    "\"\"\""
   ]
  },
  {
   "cell_type": "code",
   "execution_count": null,
   "id": "6a8bbbf7-c429-402d-ad83-b421e2718dfa",
   "metadata": {
    "tags": []
   },
   "outputs": [],
   "source": [
    "query_string = \"\"\"\n",
    "\n",
    "PREFIX : <https://ld.di.digisus-lab.ch/>\n",
    "\n",
    "\n",
    "SELECT ?partei WHERE {\n",
    "\n",
    "    ?s :partei ?partei.\n",
    "\n",
    "}\n",
    "\n",
    "\"\"\"\n",
    "\n",
    "query(ttl_string, query_string)"
   ]
  },
  {
   "cell_type": "markdown",
   "id": "20f28f27-de2c-4736-9b3f-b35485d8e856",
   "metadata": {},
   "source": [
    "## TTL mit externem Vokabular\n"
   ]
  },
  {
   "cell_type": "code",
   "execution_count": null,
   "id": "34909624-06ef-4adc-84b1-28d1549673d8",
   "metadata": {
    "tags": []
   },
   "outputs": [],
   "source": [
    "ttl_string = \"\"\"\n",
    "\n",
    "@prefix : <https://ld.di.digisus-lab.ch/>.\n",
    "@prefix schema: <http://schema.org/>.\n",
    "\n",
    ":KarinKeller-Sutter schema:hasOccupation :Bundesrat;\n",
    "    :partei :FDP.\n",
    "\n",
    ":ViolaAmherd schema:hasOccupation :Bundesrat;\n",
    "    :partei :DieMitte.\n",
    "\n",
    ":NadineMasshardt schema:hasOccupation :Nationalrat;\n",
    "    :partei :SP;\n",
    "    :geborenIn :AffolternAmAlbis.\n",
    "\n",
    ":MayaGraf schema:hasOccupation :Staenderat;\n",
    "    :partei :Gruene;\n",
    "    schema:parent :FritzGraf.\n",
    "\n",
    ":FritzGraf schema:hasOccupation :BaselbieterLandrat;\n",
    "    :partei :SVP;\n",
    "    schema:children :MayaGraf.\n",
    "\n",
    "\"\"\""
   ]
  },
  {
   "cell_type": "markdown",
   "id": "bca09816-cbe7-4418-86d4-d14edf8f8eef",
   "metadata": {},
   "source": [
    "## TTL mit Literals"
   ]
  },
  {
   "cell_type": "code",
   "execution_count": null,
   "id": "ec354931-eaba-441e-8ada-fc5cfd36c1a4",
   "metadata": {
    "tags": []
   },
   "outputs": [],
   "source": [
    "ttl_string = \"\"\"\n",
    "\n",
    "@prefix : <https://ld.di.digisus-lab.ch/>.\n",
    "@prefix schema: <http://schema.org/>.\n",
    "@prefix xsd: <http://www.w3.org/2001/XMLSchema#>.\n",
    "\n",
    ":KarinKeller-Sutter schema:hasOccupation :Bundesrat;\n",
    "    :partei :FDP;\n",
    "    :anzahlGeschwister 3.\n",
    "\n",
    ":ViolaAmherd schema:hasOccupation :Bundesrat;\n",
    "    :partei :DieMitte;\n",
    "    :vollerName \"Viola Patricia Amherd\".\n",
    "\n",
    ":NadineMasshardt schema:hasOccupation :Nationalrat;\n",
    "    :partei :SP;\n",
    "    :geborenIn :AffolternAmAlbis;\n",
    "    schema:birthDate \"1984-10-04\"^^xsd:date.\n",
    "\n",
    ":MayaGraf schema:hasOccupation :Staenderat;\n",
    "    :partei :Gruene;\n",
    "    schema:parent :FritzGraf.\n",
    "\n",
    ":FritzGraf schema:hasOccupation :BaselbieterLandrat;\n",
    "    :partei :SVP;\n",
    "    schema:children :MayaGraf.\n",
    "\n",
    "\"\"\""
   ]
  },
  {
   "cell_type": "code",
   "execution_count": null,
   "id": "80b39008-11af-4c3c-875b-7a2acdc80ecd",
   "metadata": {
    "tags": []
   },
   "outputs": [],
   "source": [
    "query_string = \"\"\"\n",
    "\n",
    "PREFIX : <https://ld.di.digisus-lab.ch/>\n",
    "PREFIX schema: <http://schema.org/>\n",
    "PREFIX xsd: <http://www.w3.org/2001/XMLSchema#>\n",
    "\n",
    "\n",
    "SELECT ?o WHERE {\n",
    "\n",
    "    ?s ?p ?o.\n",
    "    \n",
    "    FILTER(ISLITERAL(?o)).\n",
    "\n",
    "}\n",
    "\n",
    "\"\"\"\n",
    "\n",
    "query(ttl_string, query_string)"
   ]
  },
  {
   "cell_type": "markdown",
   "id": "d2456596-6894-4dcc-b32d-e1f5396b1aba",
   "metadata": {},
   "source": [
    "## TTL mit Blank Nodes"
   ]
  },
  {
   "cell_type": "code",
   "execution_count": null,
   "id": "5e2d4cea-526c-4788-96f6-0dee5438fb66",
   "metadata": {
    "tags": []
   },
   "outputs": [],
   "source": [
    "ttl_string = \"\"\"\n",
    "\n",
    "@prefix : <https://ld.di.digisus-lab.ch/>.\n",
    "@prefix schema: <http://schema.org/>.\n",
    "@prefix xsd: <http://www.w3.org/2001/XMLSchema#>.\n",
    "\n",
    "\n",
    ":Zuerich :population :zh_pop.\n",
    ":zh_pop :number 423193;\n",
    "    :valid \"2021-12-31\"^^xsd:date.\n",
    "\n",
    ":Bern :population [\n",
    "    :number 134290;\n",
    "    :valid \"2021-12-31\"^^xsd:date ].\n",
    "\n",
    "\"\"\""
   ]
  },
  {
   "cell_type": "code",
   "execution_count": null,
   "id": "74286ee4-9144-42c5-81a8-5395dcc27fc6",
   "metadata": {
    "tags": []
   },
   "outputs": [],
   "source": [
    "query_string = \"\"\"\n",
    "\n",
    "PREFIX : <https://ld.di.digisus-lab.ch/>\n",
    "PREFIX schema: <http://schema.org/>\n",
    "PREFIX xsd: <http://www.w3.org/2001/XMLSchema#>\n",
    "\n",
    "\n",
    "SELECT * WHERE {\n",
    "\n",
    "    ?city :population ?pop.\n",
    "    ?pop :number ?number.\n",
    "\n",
    "}\n",
    "\n",
    "\"\"\"\n",
    "\n",
    "query(ttl_string, query_string)"
   ]
  },
  {
   "cell_type": "code",
   "execution_count": null,
   "id": "2dd6c33c-fda2-4365-842a-1c7a61bcb372",
   "metadata": {
    "tags": []
   },
   "outputs": [],
   "source": [
    "query_string = \"\"\"\n",
    "\n",
    "PREFIX : <https://ld.di.digisus-lab.ch/>\n",
    "PREFIX schema: <http://schema.org/>\n",
    "PREFIX xsd: <http://www.w3.org/2001/XMLSchema#>\n",
    "\n",
    "\n",
    "SELECT * WHERE {\n",
    "\n",
    "    ?city :population/:number ?number.\n",
    "\n",
    "}\n",
    "\n",
    "\"\"\"\n",
    "\n",
    "query(ttl_string, query_string)"
   ]
  },
  {
   "cell_type": "markdown",
   "id": "aad362b0-7472-454a-bc22-21e4a199718b",
   "metadata": {},
   "source": [
    "## OWL"
   ]
  },
  {
   "cell_type": "code",
   "execution_count": null,
   "id": "0db79cde-b5f5-42df-92bd-ab3f594da925",
   "metadata": {},
   "outputs": [],
   "source": [
    "ttl_string = \"\"\"\n",
    "\n",
    "@prefix : <https://ld.di.digisus-lab.ch/>.\n",
    "@prefix schema: <http://schema.org/>.\n",
    "@prefix xsd: <http://www.w3.org/2001/XMLSchema#>.\n",
    "@prefix owl: <http://www.w3.org/2002/07/owl#>.\n",
    "\n",
    ":KarinKeller-Sutter a :Bundesrat;\n",
    "    :partei :FDP;\n",
    "    :anzahlGeschwister 3.\n",
    "\n",
    ":ViolaAmherd a :Bundesrat;\n",
    "    :partei :DieMitte;\n",
    "    :vollerName \"Viola Patricia Amherd\".\n",
    "\n",
    ":NadineMasshardt a :Nationalrat;\n",
    "    :partei :SP;\n",
    "    :geborenIn :AffolternAmAlbis;\n",
    "    schema:birthDate \"1984-10-04\"^^xsd:date.\n",
    "\n",
    ":MayaGraf a :Staenderat;\n",
    "    :partei :Gruene;\n",
    "    schema:parent :FritzGraf.\n",
    "\n",
    ":FritzGraf a :BaselbieterLandrat;\n",
    "    :partei :SVP;\n",
    "    schema:children :MayaGraf.\n",
    "    \n",
    "    \n",
    ":partei owl:inverseOf :parteimitglied.\n",
    "\n",
    ":Bundesratspartei owl:equivalentClass [\n",
    "    a owl:Restriction;\n",
    "    owl:onProperty :parteimitglied;\n",
    "    owl:someValuesFrom :Bundesrat ].\n",
    "\n",
    "\"\"\""
   ]
  },
  {
   "cell_type": "code",
   "execution_count": null,
   "id": "419ea607-a498-4a33-b5ac-4d27ee0b8ddf",
   "metadata": {
    "tags": []
   },
   "outputs": [],
   "source": [
    "query_string = \"\"\"\n",
    "\n",
    "PREFIX : <https://ld.di.digisus-lab.ch/>\n",
    "PREFIX schema: <http://schema.org/>\n",
    "PREFIX xsd: <http://www.w3.org/2001/XMLSchema#>\n",
    "\n",
    "\n",
    "SELECT * WHERE {\n",
    "\n",
    "    ?partei a :Bundesratspartei.\n",
    "\n",
    "}\n",
    "\n",
    "\"\"\"\n",
    "\n",
    "query(ttl_string, query_string)"
   ]
  },
  {
   "cell_type": "markdown",
   "id": "b1464bdf-70e3-41f2-9f8f-742aebeaf3ef",
   "metadata": {},
   "source": [
    "Für OWL Ableitungen braucht es einen \"echten\" Triple Store, siehe bspw. https://ld.di.digisus-lab.ch/DieMitte"
   ]
  },
  {
   "cell_type": "markdown",
   "id": "b58bf357-42c7-4e84-865e-6743282f15ff",
   "metadata": {},
   "source": [
    "## SPARQL Base Query"
   ]
  },
  {
   "cell_type": "code",
   "execution_count": null,
   "id": "a86f0a57-079d-4159-8756-3ae2feccb61b",
   "metadata": {},
   "outputs": [],
   "source": [
    "query_string = \"\"\"\n",
    "\n",
    "PREFIX : <https://ld.di.digisus-lab.ch/>\n",
    "PREFIX schema: <http://schema.org/>\n",
    "PREFIX xsd: <http://www.w3.org/2001/XMLSchema#>\n",
    "\n",
    "\n",
    "SELECT * WHERE {\n",
    "\n",
    "    ?s ?p ?o.\n",
    "\n",
    "}\n",
    "\n",
    "\"\"\"\n",
    "\n",
    "query(ttl_string, query_string)"
   ]
  }
 ],
 "metadata": {
  "kernelspec": {
   "display_name": "Python 3 (ipykernel)",
   "language": "python",
   "name": "python3"
  },
  "language_info": {
   "codemirror_mode": {
    "name": "ipython",
    "version": 3
   },
   "file_extension": ".py",
   "mimetype": "text/x-python",
   "name": "python",
   "nbconvert_exporter": "python",
   "pygments_lexer": "ipython3",
   "version": "3.10.11"
  },
  "toc-autonumbering": true
 },
 "nbformat": 4,
 "nbformat_minor": 5
}
