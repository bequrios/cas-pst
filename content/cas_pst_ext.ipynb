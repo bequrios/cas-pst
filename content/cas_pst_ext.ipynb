{
  "cells": [
    {
      "cell_type": "markdown",
      "id": "b2fab331",
      "metadata": {},
      "source": [
        "# RDF und SPARQL Sandkasten"
      ]
    },
    {
      "cell_type": "code",
      "execution_count": null,
      "id": "92cba32f",
      "metadata": {},
      "outputs": [],
      "source": [
        "# nötige Module importieren\n",
        "%pip install -q ipywidgets==8.1.1 ipycytoscape networkx rdflib\n",
        "import rdflib\n",
        "import ipycytoscape as cy\n",
        "import networkx as nx\n",
        "import pandas as pd\n",
        "from ext.rdf import parse_and_plot, query"
      ]
    },
    {
      "cell_type": "markdown",
      "id": "11f30a7f",
      "metadata": {},
      "source": [
        "## Funktionsdefinitionen"
      ]
    },
    {
      "cell_type": "markdown",
      "id": "4c269c90",
      "metadata": {},
      "source": [
        "## Spezifikationen\n",
        "\n",
        "Diese technischen Dokumente sind sehr lesenwert (und für Spezifikationen auch sehr leserlich geschrieben):\n",
        "\n",
        "- [RDF Primer](https://www.w3.org/TR/rdf11-primer/)\n",
        "- [Turtle](https://www.w3.org/TR/turtle/)\n",
        "- [SPARQL](https://www.w3.org/TR/sparql11-query/)"
      ]
    },
    {
      "cell_type": "markdown",
      "id": "f6e04954-00ad-4b7d-94b6-222b880da931",
      "metadata": {},
      "source": [
        "## Basis Turtle\n",
        "\n",
        "Bilde folgende Informationen als RDF Triple in Turtle Serialisierung ab:\n",
        "\n",
        "- Karin Keller Sutter ist eine FDP Bundesrätin\n",
        "- Viola Amherd ist eine Bundesrätin in der Partei \"die Mitte\"\n",
        "- NadineMasshardt ist eine SP Nationalrätin, die in Affoltern am Albis geboren wurde\n",
        "- Maya Graf ist eine Ständerätin der Grünen und ihr Vater ist Fritz Graf\n",
        "- Fritz Graf ist im Baselbieter Landrat für die SVP und Maya Graf seine Tochter\n",
        "- FDP, die Mitte, SP, Grüne und SVP sind politische Parteien \n",
        "\n",
        "Nutze für die URIs `<https://example.com/...>`"
      ]
    },
    {
      "cell_type": "code",
      "execution_count": null,
      "id": "96c16dd8-fbcb-47f2-ad8d-eb54eb88b22d",
      "metadata": {
        "tags": []
      },
      "outputs": [],
      "source": [
        "ttl_string = \"\"\"\n",
        "\n",
        "<https://example.com/KarinKeller-Sutter> <https://example.com/position> <https://example.com/Bundesrat>.\n",
        "<https://example.com/KarinKeller-Sutter> <https://example.com/partei> <https://example.com/FDP>.\n",
        "\n",
        "<https://example.com/ViolaAmherd> <https://example.com/position> <https://example.com/Bundesrat>.\n",
        "<https://example.com/ViolaAmherd> <https://example.com/partei> <https://example.com/DieMitte>.\n",
        "\n",
        "<https://example.com/NadineMasshardt> <https://example.com/position> <https://example.com/Nationalrat>.\n",
        "<https://example.com/NadineMasshardt> <https://example.com/partei> <https://example.com/SP>.\n",
        "<https://example.com/NadineMasshardt> <https://example.com/geborenIn> <https://example.com/AffolternAmAlbis>.\n",
        "\n",
        "<https://example.com/MayaGraf> <https://example.com/position> <https://example.com/Staenderat>.\n",
        "<https://example.com/MayaGraf> <https://example.com/partei> <https://example.com/Gruene>.\n",
        "<https://example.com/MayaGraf> <https://example.com/vater> <https://example.com/FritzGraf>.\n",
        "\n",
        "<https://example.com/FritzGraf> <https://example.com/position> <https://example.com/BaselbieterLandrat>.\n",
        "<https://example.com/FritzGraf> <https://example.com/partei> <https://example.com/SVP>.\n",
        "<https://example.com/FritzGraf> <https://example.com/kind> <https://example.com/MayaGraf>.\n",
        "\n",
        "<https://example.com/FDP> <https://example.com/ist> <https://example.com/Partei>.\n",
        "<https://example.com/DieMitte> <https://example.com/ist> <https://example.com/Partei>.\n",
        "<https://example.com/SP> <https://example.com/ist> <https://example.com/Partei>.\n",
        "<https://example.com/Gruene> <https://example.com/ist> <https://example.com/Partei>.\n",
        "<https://example.com/SVP> <https://example.com/ist> <https://example.com/Partei>.\n",
        "\n",
        "\"\"\"\n",
        "\n",
        "plot = parse_and_plot(ttl_string)\n",
        "display(plot)"
      ]
    },
    {
      "cell_type": "markdown",
      "id": "70fdcde8-925c-4c0e-8c98-22e241b58e1b",
      "metadata": {},
      "source": [
        "## TTL mit Prefix\n",
        "\n",
        "Ersetze in Deinen Triples `<https://example.com/>` durch einen Prefix (am besten den Empty Prefix; [Base vs. Empty Prefix](https://stackoverflow.com/questions/34146707/turtle-difference-between-base-and-empty-prefix))"
      ]
    },
    {
      "cell_type": "code",
      "execution_count": null,
      "id": "a2848106-4dec-4da8-a885-863dcd516d1e",
      "metadata": {},
      "outputs": [],
      "source": [
        "ttl_string = \"\"\"\n",
        "\n",
        "@prefix : <https://example.com/>.\n",
        "\n",
        ":KarinKeller-Sutter :position :Bundesrat.\n",
        ":KarinKeller-Sutter :partei :FDP.\n",
        "\n",
        ":ViolaAmherd :position :Bundesrat.\n",
        ":ViolaAmherd :partei :DieMitte.\n",
        "\n",
        ":NadineMasshardt :position :Nationalrat.\n",
        ":NadineMasshardt :partei :SP.\n",
        ":NadineMasshardt :geborenIn :AffolternAmAlbis.\n",
        "\n",
        ":MayaGraf :position :Staenderat.\n",
        ":MayaGraf :partei :Gruene.\n",
        ":MayaGraf :vater :FritzGraf.\n",
        "\n",
        ":FritzGraf :position :BaselbieterLandrat.\n",
        ":FritzGraf :partei :SVP.\n",
        ":FritzGraf :kind :MayaGraf.\n",
        "\n",
        ":FDP :ist :Partei.\n",
        ":DieMitte :ist :Partei.\n",
        ":SP :ist :Partei.\n",
        ":Gruene :ist :Partei.\n",
        ":SVP :ist :Partei.\n",
        "\n",
        "\"\"\""
      ]
    },
    {
      "cell_type": "markdown",
      "id": "859b946d-664a-40ed-9547-97cf1d5161ce",
      "metadata": {},
      "source": [
        "## TTL ohne Wiederholungen\n",
        "\n",
        "Ersetze doppelte Subjekte mit Hilfe von [Prädikat-Listen](https://www.w3.org/TR/turtle/#predicate-lists)."
      ]
    },
    {
      "cell_type": "code",
      "execution_count": null,
      "id": "6044e086-1345-464b-9603-09092e9c35c4",
      "metadata": {
        "tags": []
      },
      "outputs": [],
      "source": [
        "ttl_string = \"\"\"\n",
        "\n",
        "@prefix : <https://example.com/>.\n",
        "\n",
        ":KarinKeller-Sutter :position :Bundesrat;\n",
        "    :partei :FDP.\n",
        "\n",
        ":ViolaAmherd :position :Bundesrat;\n",
        "    :partei :DieMitte.\n",
        "\n",
        ":NadineMasshardt :position :Nationalrat;\n",
        "    :partei :SP;\n",
        "    :geborenIn :AffolternAmAlbis.\n",
        "\n",
        ":MayaGraf :position :Staenderat;\n",
        "    :partei :Gruene;\n",
        "    :vater :FritzGraf.\n",
        "\n",
        ":FritzGraf :position :BaselbieterLandrat;\n",
        "    :partei :SVP;\n",
        "    :kind :MayaGraf.\n",
        "\n",
        ":FDP :ist :Partei.\n",
        ":DieMitte :ist :Partei.\n",
        ":SP :ist :Partei.\n",
        ":Gruene :ist :Partei.\n",
        ":SVP :ist :Partei.\n",
        "\n",
        "\"\"\""
      ]
    },
    {
      "cell_type": "markdown",
      "id": "20f28f27-de2c-4736-9b3f-b35485d8e856",
      "metadata": {},
      "source": [
        "## TTL mit externem Vokabular\n"
      ]
    },
    {
      "cell_type": "code",
      "execution_count": null,
      "id": "34909624-06ef-4adc-84b1-28d1549673d8",
      "metadata": {
        "tags": []
      },
      "outputs": [],
      "source": [
        "ttl_string = \"\"\"\n",
        "\n",
        "@prefix : <https://example.com/>.\n",
        "@prefix schema: <http://schema.org/>.\n",
        "@prefix rdf: <http://www.w3.org/1999/02/22-rdf-syntax-ns#>.\n",
        "\n",
        ":KarinKeller-Sutter schema:hasOccupation :Bundesrat;\n",
        "    :partei :FDP.\n",
        "\n",
        ":ViolaAmherd schema:hasOccupation :Bundesrat;\n",
        "    :partei :DieMitte.\n",
        "\n",
        ":NadineMasshardt schema:hasOccupation :Nationalrat;\n",
        "    :partei :SP;\n",
        "    :geborenIn :AffolternAmAlbis.\n",
        "\n",
        ":MayaGraf schema:hasOccupation :Staenderat;\n",
        "    :partei :Gruene;\n",
        "    schema:parent :FritzGraf.\n",
        "\n",
        ":FritzGraf schema:hasOccupation :BaselbieterLandrat;\n",
        "    :partei :SVP;\n",
        "    schema:children :MayaGraf.\n",
        "\n",
        ":FDP rdf:type :Partei.\n",
        ":DieMitte rdf:type :Partei.\n",
        ":SP rdf:type :Partei.\n",
        ":Gruene rdf:type :Partei.\n",
        ":SVP rdf:type :Partei.\n",
        "\n",
        "\"\"\""
      ]
    },
    {
      "cell_type": "markdown",
      "id": "bca09816-cbe7-4418-86d4-d14edf8f8eef",
      "metadata": {},
      "source": [
        "## TTL mit Literals"
      ]
    },
    {
      "cell_type": "code",
      "execution_count": null,
      "id": "ec354931-eaba-441e-8ada-fc5cfd36c1a4",
      "metadata": {
        "tags": []
      },
      "outputs": [],
      "source": [
        "ttl_string = \"\"\"\n",
        "\n",
        "@prefix : <https://example.com/>.\n",
        "@prefix schema: <http://schema.org/>.\n",
        "@prefix xsd: <http://www.w3.org/2001/XMLSchema#>.\n",
        "@prefix rdf: <http://www.w3.org/1999/02/22-rdf-syntax-ns#>.\n",
        "\n",
        ":KarinKeller-Sutter schema:hasOccupation :Bundesrat;\n",
        "    :partei :FDP;\n",
        "    :anzahlGeschwister 3.\n",
        "\n",
        ":ViolaAmherd schema:hasOccupation :Bundesrat;\n",
        "    :partei :DieMitte;\n",
        "    :vollerName \"Viola Patricia Amherd\".\n",
        "\n",
        ":NadineMasshardt schema:hasOccupation :Nationalrat;\n",
        "    :partei :SP;\n",
        "    :geborenIn :AffolternAmAlbis;\n",
        "    schema:birthDate \"1984-10-04\"^^xsd:date.\n",
        "\n",
        ":MayaGraf schema:hasOccupation :Staenderat;\n",
        "    :partei :Gruene;\n",
        "    schema:parent :FritzGraf.\n",
        "\n",
        ":FritzGraf schema:hasOccupation :BaselbieterLandrat;\n",
        "    :partei :SVP;\n",
        "    schema:children :MayaGraf.\n",
        "\n",
        ":FDP rdf:type :Partei.\n",
        ":DieMitte rdf:type :Partei.\n",
        ":SP rdf:type :Partei.\n",
        ":Gruene rdf:type :Partei.\n",
        ":SVP rdf:type :Partei.\n",
        "\n",
        "\"\"\""
      ]
    },
    {
      "cell_type": "markdown",
      "id": "d2456596-6894-4dcc-b32d-e1f5396b1aba",
      "metadata": {},
      "source": [
        "## TTL mit Blank Nodes"
      ]
    },
    {
      "cell_type": "code",
      "execution_count": null,
      "id": "5e2d4cea-526c-4788-96f6-0dee5438fb66",
      "metadata": {
        "tags": []
      },
      "outputs": [],
      "source": [
        "ttl_string = \"\"\"\n",
        "\n",
        "@prefix : <https://example.com/>.\n",
        "@prefix schema: <http://schema.org/>.\n",
        "@prefix xsd: <http://www.w3.org/2001/XMLSchema#>.\n",
        "\n",
        "\n",
        ":Zuerich :population :zh_pop.\n",
        ":zh_pop :number 423193;\n",
        "    :valid \"2021-12-31\"^^xsd:date.\n",
        "\n",
        ":Bern :population [\n",
        "    :number 134290;\n",
        "    :valid \"2021-12-31\"^^xsd:date ].\n",
        "\n",
        "\"\"\""
      ]
    },
    {
      "cell_type": "markdown",
      "id": "b58bf357-42c7-4e84-865e-6743282f15ff",
      "metadata": {},
      "source": [
        "## SPARQL Query: Alle Triples\n",
        "\n",
        "Schreibe eine SPARQL Query, die alle Triples der Daten anzeigt."
      ]
    },
    {
      "cell_type": "code",
      "execution_count": null,
      "id": "a86f0a57-079d-4159-8756-3ae2feccb61b",
      "metadata": {},
      "outputs": [],
      "source": [
        "ttl_string = \"\"\"\n",
        "\n",
        "@prefix : <https://example.com/>.\n",
        "@prefix schema: <http://schema.org/>.\n",
        "@prefix xsd: <http://www.w3.org/2001/XMLSchema#>.\n",
        "@prefix rdf: <http://www.w3.org/1999/02/22-rdf-syntax-ns#>.\n",
        "\n",
        ":KarinKeller-Sutter schema:hasOccupation :Bundesrat;\n",
        "    :partei :FDP;\n",
        "    :anzahlGeschwister 3.\n",
        "\n",
        ":ViolaAmherd schema:hasOccupation :Bundesrat;\n",
        "    :partei :DieMitte;\n",
        "    :vollerName \"Viola Patricia Amherd\".\n",
        "\n",
        ":NadineMasshardt schema:hasOccupation :Nationalrat;\n",
        "    :partei :SP;\n",
        "    :geborenIn :AffolternAmAlbis;\n",
        "    schema:birthDate \"1984-10-04\"^^xsd:date.\n",
        "\n",
        ":MayaGraf schema:hasOccupation :Staenderat;\n",
        "    :partei :Gruene;\n",
        "    schema:parent :FritzGraf.\n",
        "\n",
        ":FritzGraf schema:hasOccupation :BaselbieterLandrat;\n",
        "    :partei :SVP;\n",
        "    schema:children :MayaGraf.\n",
        "\n",
        ":FDP rdf:type :Partei.\n",
        ":DieMitte rdf:type :Partei.\n",
        ":SP rdf:type :Partei.\n",
        ":Gruene rdf:type :Partei.\n",
        ":SVP rdf:type :Partei.\n",
        "\n",
        "\"\"\"\n",
        "\n",
        "query_string = \"\"\"\n",
        "\n",
        "PREFIX : <https://example.com/>\n",
        "PREFIX schema: <http://schema.org/>\n",
        "PREFIX xsd: <http://www.w3.org/2001/XMLSchema#>\n",
        "\n",
        "\n",
        "SELECT * WHERE {\n",
        "\n",
        "    ?s ?p ?o.\n",
        "\n",
        "}\n",
        "\n",
        "\"\"\"\n",
        "\n",
        "plot = parse_and_plot(ttl_string)\n",
        "display(plot)\n",
        "\n",
        "df = query(ttl_string, query_string)\n",
        "display(df)"
      ]
    },
    {
      "cell_type": "markdown",
      "id": "8cb3fc28",
      "metadata": {},
      "source": [
        "## SPARQL Query: Alle Parteien"
      ]
    },
    {
      "cell_type": "code",
      "execution_count": null,
      "id": "37854c06",
      "metadata": {},
      "outputs": [],
      "source": [
        "query_string = \"\"\"\n",
        "\n",
        "PREFIX : <https://example.com/>\n",
        "PREFIX schema: <http://schema.org/>\n",
        "PREFIX xsd: <http://www.w3.org/2001/XMLSchema#>\n",
        "PREFIX rdf: <http://www.w3.org/1999/02/22-rdf-syntax-ns#>\n",
        "\n",
        "\n",
        "SELECT * WHERE {\n",
        "\n",
        "    ?partei rdf:type :Partei.\n",
        "\n",
        "}\n",
        "\n",
        "\"\"\"\n",
        "\n",
        "df = query(ttl_string, query_string)\n",
        "display(df)"
      ]
    }
  ],
  "metadata": {
    "kernelspec": {
      "display_name": "Python (Pyodide)",
      "language": "python",
      "name": "python"
    },
    "language_info": {
      "codemirror_mode": {
        "name": "python",
        "version": 3
      },
      "file_extension": ".py",
      "mimetype": "text/x-python",
      "name": "python",
      "nbconvert_exporter": "python",
      "pygments_lexer": "ipython3",
      "version": "3.8"
    },
    "toc-autonumbering": true
  },
  "nbformat": 4,
  "nbformat_minor": 5
}
