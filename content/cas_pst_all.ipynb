{
  "cells": [
    {
      "cell_type": "markdown",
      "id": "32f71f35-78dd-4261-899c-9b9ebe7f0bba",
      "metadata": {},
      "source": [
        "# RDF und SPARQL Sandkasten"
      ]
    },
    {
      "cell_type": "code",
      "execution_count": null,
      "id": "77cd1a38-1b3d-498e-88e1-031ffa885bfd",
      "metadata": {
        "tags": [],
        "trusted": true
      },
      "outputs": [],
      "source": [
        "# nötige Module importieren\n",
        "%pip install -q ipywidgets==8.1.1 ipycytoscape networkx rdflib\n",
        "import rdflib\n",
        "import ipycytoscape as cy\n",
        "import networkx as nx\n",
        "import pandas as pd"
      ]
    },
    {
      "cell_type": "markdown",
      "id": "acc43282",
      "metadata": {},
      "source": [
        "## Funktionsdefinitionen"
      ]
    },
    {
      "cell_type": "code",
      "execution_count": null,
      "id": "a27a78f1",
      "metadata": {},
      "outputs": [],
      "source": [
        "# Funktionsfür die Konvertierung von RDF zu NetworkX\n",
        "def rdflib_to_networkx(rdf_graph):\n",
        "    G = nx.DiGraph()  # Use Graph() if you want an undirected graph\n",
        "    for subj, pred, obj in rdf_graph:\n",
        "        if isinstance(subj, rdflib.URIRef):\n",
        "            subj = rdf_graph.qname(subj)\n",
        "        elif isinstance(subj, rdflib.BNode):\n",
        "            subj = f\"_:bnode_{subj}\"  # Convert blank node to a unique string\n",
        "        pred = rdf_graph.qname(pred)\n",
        "        if isinstance(obj, rdflib.URIRef):\n",
        "            obj = rdf_graph.qname(obj)\n",
        "        elif isinstance(obj, rdflib.BNode):\n",
        "            obj = f\"_:bnode_{obj}\"  # Convert blank node to a unique string\n",
        "        elif isinstance(obj, rdflib.Literal):\n",
        "            obj = str(obj)  # Convert Literal to its string representation\n",
        "        G.add_edge(str(subj), str(obj), label=str(pred))\n",
        "    return G"
      ]
    },
    {
      "cell_type": "code",
      "execution_count": null,
      "id": "ad93f080",
      "metadata": {},
      "outputs": [],
      "source": [
        "# Funktionsdefinition, um einen TTL String zu parsen und als Graph zu plotten\n",
        "def parse_and_plot(ttl_string):\n",
        "    g = rdflib.Graph()\n",
        "    g.parse(data = ttl_string)\n",
        "    nx_graph = rdflib_to_networkx(g)\n",
        "    plot = cy.CytoscapeWidget()\n",
        "    plot.graph.add_graph_from_networkx(nx_graph, directed=True)\n",
        "\n",
        "    style = [\n",
        "        {\n",
        "            'selector': 'node',\n",
        "             'style': {\n",
        "                'font-family': 'helvetica',\n",
        "                'font-size': '12px',\n",
        "                 'color': 'white',\n",
        "                'text-outline-width': 2,\n",
        "                'text-outline-color': 'green',\n",
        "                'background-color': 'green',\n",
        "                'content': 'data(id)',\n",
        "                'text-valign': 'center',\n",
        "             }\n",
        "        },\n",
        "        {\n",
        "            'selector': 'edge.directed',\n",
        "            'style': {\n",
        "                'font-family': 'helvetica',\n",
        "                'font-size': '12px',\n",
        "                'label': 'data(label)',\n",
        "                'color': 'white',\n",
        "                'text-outline-width': 2,\n",
        "                'text-outline-color': 'orange',\n",
        "                'background-color': 'orange',\n",
        "                'curve-style': 'bezier',\n",
        "                'target-arrow-shape': 'triangle',\n",
        "            }\n",
        "        }\n",
        "    ]\n",
        "    \n",
        "    plot.set_style(style)\n",
        "    return plot"
      ]
    },
    {
      "cell_type": "code",
      "execution_count": null,
      "id": "6fd2e44b-cdc2-41cf-8e70-5489a8a644b6",
      "metadata": {
        "tags": [],
        "trusted": true
      },
      "outputs": [],
      "source": [
        "# Funktionsdefinition, um eine Query gegen eine lokale Turtle Datei auszuführen\n",
        "def query(ttl_string, query_string):\n",
        "    \n",
        "    g = rdflib.Graph()\n",
        "    g.parse(data = ttl_string)\n",
        "\n",
        "    qres = g.query(query_string)\n",
        "\n",
        "    df = pd.DataFrame(qres, columns=qres.vars)\n",
        "    return df"
      ]
    },
    {
      "cell_type": "markdown",
      "id": "ff308100-6249-4d9a-b68e-03e77edaf108",
      "metadata": {},
      "source": [
        "## Spezifikationen\n",
        "\n",
        "Diese technischen Dokumente sind sehr lesenwert (und für Spezifikationen auch sehr leserlich geschrieben):\n",
        "\n",
        "- [RDF Primer](https://www.w3.org/TR/rdf11-primer/)\n",
        "- [Turtle](https://www.w3.org/TR/turtle/)\n",
        "- [SPARQL](https://www.w3.org/TR/sparql11-query/)"
      ]
    },
    {
      "cell_type": "markdown",
      "id": "bca09816-cbe7-4418-86d4-d14edf8f8eef",
      "metadata": {},
      "source": [
        "## TTL mit allen Features"
      ]
    },
    {
      "cell_type": "code",
      "execution_count": null,
      "id": "ec354931-eaba-441e-8ada-fc5cfd36c1a4",
      "metadata": {
        "tags": [],
        "trusted": true
      },
      "outputs": [],
      "source": [
        "ttl_string = \"\"\"\n",
        "\n",
        "@prefix : <https://ld.di.digisus-lab.ch/>.\n",
        "@prefix schema: <http://schema.org/>.\n",
        "@prefix xsd: <http://www.w3.org/2001/XMLSchema#>.\n",
        "@prefix rdfs: <http://www.w3.org/2000/01/rdf-schema#>.\n",
        "\n",
        ":KarinKeller-Sutter schema:hasOccupation :Bundesrat;\n",
        "    :partei :FDP;\n",
        "    :anzahlGeschwister 3.\n",
        "    \n",
        ":FDP rdfs:label \"FDP.Die Liberalen\"@de, \"PLR.Les Libéraux-Radicaux\"@fr.\n",
        "\n",
        ":ViolaAmherd schema:hasOccupation :Bundesrat;\n",
        "    :partei :DieMitte;\n",
        "    :vollerName \"Viola Patricia Amherd\".\n",
        "\n",
        ":NadineMasshardt schema:hasOccupation :Nationalrat;\n",
        "    :partei :SP;\n",
        "    :geborenIn :AffolternAmAlbis;\n",
        "    schema:birthDate \"1984-10-04\"^^xsd:date.\n",
        "\n",
        ":MayaGraf schema:hasOccupation [\n",
        "        :role :Staenderat;\n",
        "        schema:startDate \"2019-12-04\"^^xsd:date];\n",
        "    \n",
        "    schema:hasOccupation [\n",
        "        :role :Nationalrat;\n",
        "        schema:startDate \"2001-06-05\"^^xsd:date;\n",
        "        schema:stopDate \"2019-12-03\"^^xsd:date];\n",
        "    \n",
        "    :partei :Gruene;\n",
        "    schema:parent :FritzGraf.\n",
        "\n",
        ":FritzGraf schema:hasOccupation :BaselbieterLandrat;\n",
        "    :partei :SVP;\n",
        "    schema:children :MayaGraf.\n",
        "\n",
        "\"\"\"\n",
        "\n",
        "plot = parse_and_plot(ttl_string)\n",
        "plot"
      ]
    },
    {
      "cell_type": "markdown",
      "id": "7775809a-1967-4682-9e3d-d8e6f5bb786c",
      "metadata": {},
      "source": [
        "## SPARQL Query"
      ]
    },
    {
      "cell_type": "code",
      "execution_count": null,
      "id": "80b39008-11af-4c3c-875b-7a2acdc80ecd",
      "metadata": {
        "tags": [],
        "trusted": true
      },
      "outputs": [],
      "source": [
        "query_string = \"\"\"\n",
        "\n",
        "PREFIX : <https://ld.di.digisus-lab.ch/>\n",
        "PREFIX schema: <http://schema.org/>\n",
        "PREFIX xsd: <http://www.w3.org/2001/XMLSchema#>\n",
        "PREFIX rdfs: <http://www.w3.org/2000/01/rdf-schema#>\n",
        "\n",
        "\n",
        "SELECT ?s ?p ?o WHERE {\n",
        "\n",
        "    ?s ?p ?o.\n",
        "\n",
        "}\n",
        "\n",
        "\"\"\"\n",
        "\n",
        "df = query(ttl_string, query_string)\n",
        "display(df)"
      ]
    }
  ],
  "metadata": {
    "kernelspec": {
      "display_name": "Python (Pyodide)",
      "language": "python",
      "name": "python"
    },
    "language_info": {
      "codemirror_mode": {
        "name": "python",
        "version": 3
      },
      "file_extension": ".py",
      "mimetype": "text/x-python",
      "name": "python",
      "nbconvert_exporter": "python",
      "pygments_lexer": "ipython3",
      "version": "3.8"
    },
    "toc-autonumbering": true
  },
  "nbformat": 4,
  "nbformat_minor": 5
}
