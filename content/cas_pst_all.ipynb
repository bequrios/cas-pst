{
  "metadata": {
    "toc-autonumbering": true,
    "kernelspec": {
      "name": "python",
      "display_name": "Python (Pyodide)",
      "language": "python"
    },
    "language_info": {
      "codemirror_mode": {
        "name": "python",
        "version": 3
      },
      "file_extension": ".py",
      "mimetype": "text/x-python",
      "name": "python",
      "nbconvert_exporter": "python",
      "pygments_lexer": "ipython3",
      "version": "3.8"
    }
  },
  "nbformat_minor": 5,
  "nbformat": 4,
  "cells": [
    {
      "cell_type": "markdown",
      "source": "# RDF und SPARQL Sandkasten",
      "metadata": {},
      "id": "32f71f35-78dd-4261-899c-9b9ebe7f0bba"
    },
    {
      "cell_type": "code",
      "source": "# nötige Module importieren\n%pip install -q rdflib\nimport rdflib\nimport pandas as pd",
      "metadata": {
        "tags": [],
        "trusted": true
      },
      "execution_count": null,
      "outputs": [],
      "id": "77cd1a38-1b3d-498e-88e1-031ffa885bfd"
    },
    {
      "cell_type": "code",
      "source": "# Funktionsdefinition, um eine Query gegen eine lokale Turtle Datei auszuführen\ndef query(ttl_string, query_string):\n    \n    g = rdflib.Graph()\n    g.parse(data = ttl_string)\n\n    qres = g.query(query_string)\n\n    df = pd.DataFrame(qres, columns=qres.vars)\n    display(df)",
      "metadata": {
        "tags": [],
        "trusted": true
      },
      "execution_count": null,
      "outputs": [],
      "id": "6fd2e44b-cdc2-41cf-8e70-5489a8a644b6"
    },
    {
      "cell_type": "markdown",
      "source": "## Spezifikationen\n\nDiese technischen Dokumente sind sehr lesenwert (und für Spezifikationen auch sehr leserlich geschrieben):\n\n- [RDF Primer](https://www.w3.org/TR/rdf11-primer/)\n- [Turtle](https://www.w3.org/TR/turtle/)\n- [SPARQL](https://www.w3.org/TR/sparql11-query/)",
      "metadata": {},
      "id": "ff308100-6249-4d9a-b68e-03e77edaf108"
    },
    {
      "cell_type": "markdown",
      "source": "## TTL mit allen Features",
      "metadata": {},
      "id": "bca09816-cbe7-4418-86d4-d14edf8f8eef"
    },
    {
      "cell_type": "code",
      "source": "ttl_string = \"\"\"\n\n@prefix : <https://ld.di.digisus-lab.ch/>.\n@prefix schema: <http://schema.org/>.\n@prefix xsd: <http://www.w3.org/2001/XMLSchema#>.\n@prefix rdfs: <http://www.w3.org/2000/01/rdf-schema#>.\n\n:KarinKeller-Sutter schema:hasOccupation :Bundesrat;\n    :partei :FDP;\n    :anzahlGeschwister 3.\n    \n:FDP rdfs:label \"FDP.Die Liberalen\"@de, \"PLR.Les Libéraux-Radicaux\"@fr.\n\n:ViolaAmherd schema:hasOccupation :Bundesrat;\n    :partei :DieMitte;\n    :vollerName \"Viola Patricia Amherd\".\n\n:NadineMasshardt schema:hasOccupation :Nationalrat;\n    :partei :SP;\n    :geborenIn :AffolternAmAlbis;\n    schema:birthDate \"1984-10-04\"^^xsd:date.\n\n:MayaGraf schema:hasOccupation [\n        :role :Staenderat;\n        schema:startDate \"2019-12-04\"^^xsd:date];\n    \n    schema:hasOccupation [\n        :role :Nationalrat;\n        schema:startDate \"2001-06-05\"^^xsd:date;\n        schema:stopDate \"2019-12-03\"^^xsd:date];\n    \n    :partei :Gruene;\n    schema:parent :FritzGraf.\n\n:FritzGraf schema:hasOccupation :BaselbieterLandrat;\n    :partei :SVP;\n    schema:children :MayaGraf.\n\n\"\"\"\n\ng = rdflib.Graph()\ng.parse(data = ttl_string)",
      "metadata": {
        "tags": [],
        "trusted": true
      },
      "execution_count": null,
      "outputs": [],
      "id": "ec354931-eaba-441e-8ada-fc5cfd36c1a4"
    },
    {
      "cell_type": "markdown",
      "source": "## SPARQL Query",
      "metadata": {},
      "id": "7775809a-1967-4682-9e3d-d8e6f5bb786c"
    },
    {
      "cell_type": "code",
      "source": "query_string = \"\"\"\n\nPREFIX : <https://ld.di.digisus-lab.ch/>\nPREFIX schema: <http://schema.org/>\nPREFIX xsd: <http://www.w3.org/2001/XMLSchema#>\nPREFIX rdfs: <http://www.w3.org/2000/01/rdf-schema#>\n\n\nSELECT ?s ?p ?o WHERE {\n\n    ?s ?p ?o.\n\n}\n\n\"\"\"\n\nquery(ttl_string, query_string)",
      "metadata": {
        "tags": [],
        "trusted": true
      },
      "execution_count": null,
      "outputs": [],
      "id": "80b39008-11af-4c3c-875b-7a2acdc80ecd"
    }
  ]
}