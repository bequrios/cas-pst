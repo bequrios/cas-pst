{
  "cells": [
    {
      "cell_type": "markdown",
      "id": "b2fab331",
      "metadata": {},
      "source": [
        "# RDF - Turtle - SPARQL Sandbox\n",
        "\n",
        "In diesem Jupyter Notebook können \"Hands-On\" Erfahrungen mit RDF, Turtle und SPARQL gesammelt werden. Dabei kann nichts \"kaputt\" gehen..."
      ]
    },
    {
      "cell_type": "markdown",
      "id": "26290cd5",
      "metadata": {},
      "source": [
        "## Nötige Module importieren\n",
        "\n",
        "Das Ausführen der nächsten Zelle dauert beim ersten mal rund 1 Minute. Jede weitere Ausführung ist dann aber deutlich schneller..."
      ]
    },
    {
      "cell_type": "code",
      "execution_count": null,
      "id": "f5b76787",
      "metadata": {},
      "outputs": [],
      "source": [
        "%pip install -q ipywidgets==8.1.1 ipycytoscape networkx rdflib\n",
        "import rdflib\n",
        "import ipycytoscape as cy\n",
        "import networkx as nx\n",
        "import pandas as pd\n",
        "import requests\n",
        "from IPython.display import HTML\n",
        "import urllib3\n",
        "from ext.rdf import parse_and_plot, local_query, remote_query, display_result"
      ]
    },
    {
      "cell_type": "markdown",
      "id": "2329976a",
      "metadata": {},
      "source": [
        "## Grundlagendokumente\n",
        "\n",
        "Diese technischen Dokumente sind sehr lesenwert (und für Spezifikationen auch erstaunlich leserlich geschrieben):\n",
        "\n",
        "- [RDF Primer](https://www.w3.org/TR/rdf11-primer/)\n",
        "- [Turtle](https://www.w3.org/TR/turtle/)\n",
        "- [SPARQL](https://www.w3.org/TR/sparql11-query/)"
      ]
    },
    {
      "cell_type": "markdown",
      "id": "ea9a25eb",
      "metadata": {},
      "source": [
        "## Turtle\n",
        "\n",
        "Turtle ist eine Möglichkeit, RDF zu serialisieren, also ein möglicher Syntax, um RDF Daten zu schreiben (und auch in einer Datenbank zu speichern). Um die Graph-Struktur hinter den RDF Daten zu sehen, werden diese jeweils direkt visualisiert, somit kann man auch gut erkennen, ob die Daten dem entsprechen, was beabsichtigt war."
      ]
    },
    {
      "cell_type": "markdown",
      "id": "4107093d",
      "metadata": {},
      "source": [
        "### Erstes einfaches Turtle\n",
        "\n",
        "In der nachfolgenden Zelle sind drei Triples, die einen einfachen Graphen bilden."
      ]
    },
    {
      "cell_type": "code",
      "execution_count": null,
      "id": "c5a1f789",
      "metadata": {},
      "outputs": [],
      "source": [
        "ttl_string = \"\"\"\n",
        "\n",
        "<https://example.com/KingCharles> <https://example.com/hasChild> <https://example.com/PrinceHarry> .\n",
        "<https://example.com/KingCharles> <https://example.com/isKingOf> <https://example.com/England> .\n",
        "<https://example.com/KingCharles> <https://example.com/hasMother> <https://example.com/QueenElizabeth> .\n",
        "\n",
        "\"\"\"\n",
        "\n",
        "plot = parse_and_plot(ttl_string)\n",
        "display(plot)"
      ]
    },
    {
      "cell_type": "markdown",
      "id": "d00f30e4",
      "metadata": {},
      "source": [
        "### Aufgabe 1\n",
        "\n",
        "Schreibe in der nachfolgenden Zelle Triples für folgende Aussagen:\n",
        "\n",
        "- Karin Keller-Sutter gehört dem Bundesrat an\n",
        "- Karin Keller-Sutter ist in der FDP\n",
        "- Karin Keller-Sutter wurde in Niederuzwil geboren"
      ]
    },
    {
      "cell_type": "code",
      "execution_count": null,
      "id": "b3877c53",
      "metadata": {},
      "outputs": [],
      "source": [
        "ttl_string = \"\"\"\n",
        "\n",
        "<https://example.com/KarinKellerSutter> <https://example.com/mitgliedVon> <https://example.com/Bundesrat> .\n",
        "<https://example.com/KarinKellerSutter> <https://example.com/inPartei> <https://example.com/FDP> .\n",
        "<https://example.com/KarinKellerSutter> <https://example.com/geborenIn> <https://example.com/Niederuzwil> .\n",
        "\n",
        "\"\"\"\n",
        "\n",
        "plot = parse_and_plot(ttl_string)\n",
        "display(plot)"
      ]
    },
    {
      "cell_type": "markdown",
      "id": "e992967c",
      "metadata": {},
      "source": [
        "### Prefix und Subjektwiederholung\n",
        "\n",
        "Nachfolgende Zelle zeig zwei Vereinfachungen anhand der Informationen über King Charles:\n",
        "\n",
        "- Nutzung eines Prefix `ex:` als Abkürzung für `https://example.com/`\n",
        "- Auslassung des Subjekts, falls es wiederholt wird (Zeile vorher hört dann mit `;` auf statt `.`)"
      ]
    },
    {
      "cell_type": "code",
      "execution_count": null,
      "id": "bd0a0b6b",
      "metadata": {},
      "outputs": [],
      "source": [
        "ttl_string = \"\"\"\n",
        "\n",
        "@prefix ex: <https://example.com/> .\n",
        "\n",
        "ex:KingCharles ex:hasChild ex:PrinceHarry ;\n",
        "    ex:isKingOf ex:England ;\n",
        "    ex:hasMother ex:QueenElizabeth .\n",
        "\n",
        "\"\"\"\n",
        "\n",
        "plot = parse_and_plot(ttl_string)\n",
        "display(plot)"
      ]
    },
    {
      "cell_type": "markdown",
      "id": "cc28c952",
      "metadata": {},
      "source": [
        "### Aufgabe 2\n",
        "\n",
        "Schreibe die Triples aus Aufgabe 1 mit Prefix und wiederhole gleiche Subjekte nicht."
      ]
    },
    {
      "cell_type": "code",
      "execution_count": null,
      "id": "2ef50b56",
      "metadata": {},
      "outputs": [],
      "source": [
        "ttl_string = \"\"\"\n",
        "\n",
        "@prefix ex: <https://example.com/> .\n",
        "\n",
        "ex:KarinKellerSutter ex:mitgliedVon ex:Bundesrat ;\n",
        "    ex:inPartei ex:FDP ;\n",
        "    ex:geborenIn ex:Niederuzwil .\n",
        "\n",
        "\"\"\"\n",
        "\n",
        "plot = parse_and_plot(ttl_string)\n",
        "display(plot)"
      ]
    },
    {
      "cell_type": "markdown",
      "id": "8f9d8221",
      "metadata": {},
      "source": [
        "### String Literals\n",
        "\n",
        "Nachfolgende Zelle zeigt den Einsatz von String Literals:\n",
        "\n",
        "- Zahlen können ohne `\"\"` geschrieben werden\n",
        "- Für Zeichenketten braucht es `\"\"`\n",
        "- Spezifische Datentypen können mit `^^URI` angehängt werden"
      ]
    },
    {
      "cell_type": "code",
      "execution_count": null,
      "id": "a86d40a3",
      "metadata": {},
      "outputs": [],
      "source": [
        "ttl_string = \"\"\"\n",
        "\n",
        "@prefix ex: <https://example.com/> .\n",
        "@prefix xsd: <http://www.w3.org/2001/XMLSchema#> .\n",
        "\n",
        "ex:KingCharles ex:hasChild ex:PrinceHarry ;\n",
        "    ex:isKingOf ex:England ;\n",
        "    ex:hasMother ex:QueenElizabeth ;\n",
        "    ex:numberOfChildren 2 ;\n",
        "    ex:fullName \"Charles Philip Arthur George\" ;\n",
        "    ex:birthDate \"1948-11-14\"^^xsd:date .\n",
        "\n",
        "\"\"\"\n",
        "\n",
        "plot = parse_and_plot(ttl_string)\n",
        "display(plot)"
      ]
    },
    {
      "cell_type": "markdown",
      "id": "7a245adf",
      "metadata": {},
      "source": [
        "String Literals werden optisch anders dargestellt, als die URI Nodes."
      ]
    },
    {
      "cell_type": "markdown",
      "id": "10b1c20b",
      "metadata": {},
      "source": [
        "### Aufgabe 3\n",
        "\n",
        "Erweitere die Triples aus Aufgabe 2 um folgende Informationen\n",
        "\n",
        "- Karin Keller-Sutter hat eine Beliebtheit von 4.56\n",
        "- Sie trägt den vollen Namen \"Karin Maria Keller-Sutter\"\n",
        "- Sie wurde am 22. Dezember 1963 geboren"
      ]
    },
    {
      "cell_type": "code",
      "execution_count": null,
      "id": "d431bec3",
      "metadata": {},
      "outputs": [],
      "source": [
        "ttl_string = \"\"\"\n",
        "\n",
        "@prefix ex: <https://example.com/> .\n",
        "@prefix xsd: <http://www.w3.org/2001/XMLSchema#> .\n",
        "\n",
        "ex:KarinKellerSutter ex:mitgliedVon ex:Bundesrat ;\n",
        "    ex:inPartei ex:FDP ;\n",
        "    ex:geborenIn ex:Niederuzwil ;\n",
        "    ex:beliebtheit 4.56 ;\n",
        "    ex:vollerName \"Karin Maria Keller-Sutter\" ;\n",
        "    ex:geburtsdatum \"1963-12-22\"^^xsd:date .\n",
        "\n",
        "\"\"\"\n",
        "\n",
        "plot = parse_and_plot(ttl_string)\n",
        "display(plot)"
      ]
    },
    {
      "cell_type": "markdown",
      "id": "0ba317c1",
      "metadata": {},
      "source": [
        "### Weitere Subjekte\n",
        "\n",
        "Nachfolgende Zelle zeigt neue Subjekte, die den Graphen etwas interessanter werden lassen:"
      ]
    },
    {
      "cell_type": "code",
      "execution_count": null,
      "id": "cf04f2d5",
      "metadata": {},
      "outputs": [],
      "source": [
        "ttl_string = \"\"\"\n",
        "\n",
        "@prefix ex: <https://example.com/> .\n",
        "@prefix xsd: <http://www.w3.org/2001/XMLSchema#> .\n",
        "\n",
        "ex:KingCharles ex:hasChild ex:PrinceHarry ;\n",
        "    ex:isKingOf ex:England ;\n",
        "    ex:hasMother ex:QueenElizabeth ;\n",
        "    ex:numberOfChildren 2 ;\n",
        "    ex:fullName \"Charles Philip Arthur George\" ;\n",
        "    ex:birthDate \"1948-11-14\"^^xsd:date .\n",
        "\n",
        "ex:PrinceHarry ex:hasSibling ex:PrinceWilliam.\n",
        "ex:QueenElizabeth ex:hasChild ex:KingCharles.\n",
        "ex:PrinceWilliam ex:hasSibling ex:PrinceHarry;\n",
        "    ex:livesIn ex:England.\n",
        "\n",
        "\"\"\"\n",
        "\n",
        "plot = parse_and_plot(ttl_string)\n",
        "display(plot)"
      ]
    },
    {
      "cell_type": "markdown",
      "id": "527f2fc4",
      "metadata": {},
      "source": [
        "### Aufgabe 4\n",
        "\n",
        "Integriere folgende Informationen in deinen Graphen über Karin Keller-Sutter:\n",
        "\n",
        "- Der Name (String) der FDP ist \"FDP.Die Liberalen\"\n",
        "- Niederuzwil ist Teil der Gemeinde Uzwil\n",
        "- Uzwil liegt im Kanton St. Gallen\n",
        "- Der Bundesrat ist die Exekutive der Schweiz\n",
        "- Der Bundesrat hat als Mitglied Karin Keller-Sutter\n",
        "- Die Schweiz hat Bern als Bundesstadt"
      ]
    },
    {
      "cell_type": "code",
      "execution_count": null,
      "id": "f7d478f8",
      "metadata": {},
      "outputs": [],
      "source": [
        "ttl_string = \"\"\"\n",
        "\n",
        "@prefix ex: <https://example.com/> .\n",
        "@prefix xsd: <http://www.w3.org/2001/XMLSchema#> .\n",
        "\n",
        "ex:KarinKellerSutter ex:mitgliedVon ex:Bundesrat ;\n",
        "    ex:inPartei ex:FDP ;\n",
        "    ex:geborenIn ex:Niederuzwil ;\n",
        "    ex:beliebtheit 4.56 ;\n",
        "    ex:vollerName \"Karin Maria Keller-Sutter\" ;\n",
        "    ex:geburtsdatum \"1963-12-22\"^^xsd:date .\n",
        "\n",
        "ex:FDP ex:name \"FDP.Die Liberalen\" .\n",
        "ex:Niederuzwil ex:teilVon ex:Uzwil ;\n",
        "    ex:inKanton ex:SG .\n",
        "ex:Bundesrat ex:exekutiveVon ex:CH ;\n",
        "    ex:hatMitglied ex:KarinKellerSutter .\n",
        "ex:CH ex:hatBundesstadt ex:Bern .\n",
        "\n",
        "\"\"\"\n",
        "\n",
        "plot = parse_and_plot(ttl_string)\n",
        "display(plot)"
      ]
    },
    {
      "cell_type": "markdown",
      "id": "e30e2ea6",
      "metadata": {},
      "source": [
        "### Nodes zur Gruppierung von Information\n",
        "\n",
        "Manchmal möchte man einer Aussage (einem Triple) noch weitere Metadaten anfügen, wie zum Beispiel von wann bis wann diese Aussage gestimmt hat, auf den ersten Blick ist das nicht ganz klar, wie hier vorzugehen ist. Wenn wir beispielsweise zu King Charles sagen wollen, dass er vom 14.11.1958 bis zum 7.9.2022 Kronprinz war und seit dem 8.9.2022 König, dann könnte man Folgendes probieren:"
      ]
    },
    {
      "cell_type": "code",
      "execution_count": null,
      "id": "4893e24d",
      "metadata": {},
      "outputs": [],
      "source": [
        "ttl_string = \"\"\"\n",
        "\n",
        "@prefix ex: <https://example.com/> .\n",
        "@prefix xsd: <http://www.w3.org/2001/XMLSchema#> .\n",
        "\n",
        "ex:KingCharles ex:hasRole ex:CrownPrince ;\n",
        "    ex:hasRole ex:King;\n",
        "    ex:startedRole \"1958-11-14\"^^xsd:date;\n",
        "    ex:endedRole \"2022-09-07\"^^xsd:date;\n",
        "    ex:startedRole \"2022-09-08\"^^xsd:date.\n",
        "\n",
        "\"\"\"\n",
        "\n",
        "plot = parse_and_plot(ttl_string)\n",
        "display(plot)"
      ]
    },
    {
      "cell_type": "markdown",
      "id": "6019a28f",
      "metadata": {},
      "source": [
        "aber damit ist nicht klar, auf welche Rollen sich die Daten beziehen, eine andere Möglichkeit wäre:"
      ]
    },
    {
      "cell_type": "code",
      "execution_count": null,
      "id": "98edb9b2",
      "metadata": {},
      "outputs": [],
      "source": [
        "ttl_string = \"\"\"\n",
        "\n",
        "@prefix ex: <https://example.com/> .\n",
        "@prefix xsd: <http://www.w3.org/2001/XMLSchema#> .\n",
        "\n",
        "ex:KingCharles ex:hasRole ex:CrownPrince ;\n",
        "    ex:hasRole ex:King .\n",
        "ex:CrownPrince ex:begin \"1958-11-14\"^^xsd:date ;\n",
        "    ex:end \"2022-09-07\"^^xsd:date .\n",
        "ex:King ex:begin \"2022-09-08\"^^xsd:date .\n",
        "\n",
        "\"\"\"\n",
        "\n",
        "plot = parse_and_plot(ttl_string)\n",
        "display(plot)"
      ]
    },
    {
      "cell_type": "markdown",
      "id": "7713ee65",
      "metadata": {},
      "source": [
        "aber auch das wird zum Problem, spätestens wenn weitere Personen das Amt des Köngis oder Kronprinzen bekleiden, dann stimmen die Daten wieder nicht (ex:King ist ja einfach eine Entität König, da ist noch keine spezifische Person damit gemeint). Es braucht also eine andere Lösung..."
      ]
    },
    {
      "cell_type": "markdown",
      "id": "db0a232d",
      "metadata": {},
      "source": [
        "### Aufgabe 5\n",
        "\n",
        "Versuche folgende Informationen zu Karin Keller-Sutter in RDF zu modellieren:\n",
        "\n",
        "- Sie war von 2011-2018 Ständerätin\n",
        "- Sie ist seit 2019 Bundesrätin"
      ]
    },
    {
      "cell_type": "code",
      "execution_count": null,
      "id": "cc7912a5",
      "metadata": {},
      "outputs": [],
      "source": [
        "ttl_string = \"\"\"\n",
        "\n",
        "@prefix ex: <https://example.com/> .\n",
        "@prefix xsd: <http://www.w3.org/2001/XMLSchema#> .\n",
        "\n",
        "ex:KarinKellerSutter ex:hatRolle ex:Rolle1 .\n",
        "ex:Rolle1 ex:beginn \"2011\"^^xsd:year ;\n",
        "    ex:ende \"2018\"^^xsd:year ;\n",
        "    ex:aufgabe ex:Ständerätin .\n",
        "ex:KarinKellerSutter ex:hatRolle ex:Rolle2 .\n",
        "ex:Rolle2 ex:beginn \"2019\"^^xsd:year ;\n",
        "    ex:aufgabe ex:Bundesrätin .\n",
        "\n",
        "\"\"\"\n",
        "\n",
        "plot = parse_and_plot(ttl_string)\n",
        "display(plot)"
      ]
    },
    {
      "cell_type": "markdown",
      "id": "7942b0a5",
      "metadata": {},
      "source": [
        "und für König Charles sähe es so aus:"
      ]
    },
    {
      "cell_type": "code",
      "execution_count": null,
      "id": "54f8040a",
      "metadata": {},
      "outputs": [],
      "source": [
        "ttl_string = \"\"\"\n",
        "\n",
        "@prefix ex: <https://example.com/> .\n",
        "@prefix xsd: <http://www.w3.org/2001/XMLSchema#> .\n",
        "\n",
        "ex:KingCharles ex:hasRole ex:Role1 .\n",
        "ex:Role1 ex:begin \"1958-11-14\"^^xsd:date ;\n",
        "    ex:end \"2022-09-07\"^^xsd:date ;\n",
        "    ex:function ex:CrownPrince .\n",
        "ex:KingCharles ex:hasRole ex:Role2 .\n",
        "ex:Role2 ex:begin \"2022-09-08\"^^xsd:date ;\n",
        "    ex:function ex:King .\n",
        "\n",
        "\"\"\"\n",
        "\n",
        "plot = parse_and_plot(ttl_string)\n",
        "display(plot)"
      ]
    },
    {
      "cell_type": "markdown",
      "id": "fa62ada2",
      "metadata": {},
      "source": [
        "### Blank Nodes\n",
        "\n",
        "Diese Nodes zur Gruppierung interessieren ja nicht an und für sich, deshalb kann man sie auch durch sogenannte Blank Nodes ersetzen. Das sind Nodes, die keine eigene URI haben:"
      ]
    },
    {
      "cell_type": "code",
      "execution_count": null,
      "id": "4b68d2d1",
      "metadata": {},
      "outputs": [],
      "source": [
        "ttl_string = \"\"\"\n",
        "\n",
        "@prefix ex: <https://example.com/> .\n",
        "@prefix xsd: <http://www.w3.org/2001/XMLSchema#> .\n",
        "\n",
        "ex:KingCharles ex:hasRole [\n",
        "    ex:begin \"1958-11-14\"^^xsd:date ;\n",
        "    ex:end \"2022-09-07\"^^xsd:date ;\n",
        "    ex:function ex:CrownPrince ] .\n",
        "ex:KingCharles ex:hasRole [\n",
        "    ex:begin \"2022-09-08\"^^xsd:date ;\n",
        "    ex:function ex:King ] .\n",
        "\n",
        "\"\"\"\n",
        "\n",
        "plot = parse_and_plot(ttl_string)\n",
        "display(plot)"
      ]
    },
    {
      "cell_type": "markdown",
      "id": "119b4edd",
      "metadata": {},
      "source": [
        "In der Visualisierung werden diese Nodes kleiner dargestellt und weisen keine URI auf."
      ]
    },
    {
      "cell_type": "markdown",
      "id": "7b24fe24",
      "metadata": {},
      "source": [
        "## Nutzung von bestehenden Terms\n",
        "\n",
        "### Aufgabe 6\n",
        "\n",
        "Bilde nachfolgend mit Hilfe von [SKOS semantic relations terms](https://www.w3.org/TR/skos-reference/#semantic-relations) eine kleine Hierarchie bestehend aus folgenden Elementen:\n",
        "\n",
        "- Holz\n",
        "- Laubholz\n",
        "- Nadelholz\n",
        "- Birkenholz\n",
        "- Tannenholz\n",
        "- Buchenholz\n",
        "- Laerchenholz"
      ]
    },
    {
      "cell_type": "code",
      "execution_count": null,
      "id": "8ade54f0",
      "metadata": {},
      "outputs": [],
      "source": [
        "ttl_string = \"\"\"\n",
        "\n",
        "@prefix ex: <https://example.com/> .\n",
        "@prefix skos: <http://www.w3.org/2004/02/skos/core#> .\n",
        "\n",
        "ex:Holz skos:narrower ex:Laubholz, ex:Nadelholz .\n",
        "ex:Laubholz skos:narrower ex:Birkenholz, ex:Buchenholz .\n",
        "ex:Nadelholz skos:narrower ex:Tannenholz, ex:Laerchenholz .\n",
        "\n",
        "\"\"\"\n",
        "\n",
        "plot = parse_and_plot(ttl_string)\n",
        "display(plot)"
      ]
    },
    {
      "cell_type": "markdown",
      "id": "f7f60a01",
      "metadata": {},
      "source": [
        "### Aufgabe 7\n",
        "\n",
        "Beschreibe Taylor Swift mit Terms von [schema.org](https://schema.org/Person):"
      ]
    },
    {
      "cell_type": "code",
      "execution_count": null,
      "id": "e3392ca9",
      "metadata": {},
      "outputs": [],
      "source": [
        "ttl_string = \"\"\"\n",
        "\n",
        "@prefix ex: <https://example.com/> .\n",
        "@prefix schema: <https://schema.org/> .\n",
        "@prefix xsd: <http://www.w3.org/2001/XMLSchema#> .\n",
        "\n",
        "ex:TaylorSwift a schema:Person ;\n",
        "    schema:birthDate \"1989-12-13\"^^xsd:date ;\n",
        "    schema:birthPlace \"Reading, Pennsylvania, USA\" ;\n",
        "    schema:description \"Taylor Alison Swift is an American singer-songwriter.\" ;\n",
        "    schema:award \"Grammy Award for Album of the Year\" ;\n",
        "    schema:hasOccupation ex:Occupation1 .\n",
        "\n",
        "ex:Occupation1 a schema:Occupation ;\n",
        "    schema:name \"Singer\";\n",
        "    schema:skill \"Singing\" .\n",
        "\n",
        "ex:TaylorSwift schema:spouse schema:Spouse1, schema:Spouse2, schema:Spouse3, schema:Spouse4 .\n",
        "\n",
        "schema:Spouse1 a schema:Person ;\n",
        "    schema:name \"Taylor Lautner\" .\n",
        "schema:Spouse2 a schema:Person ;\n",
        "    schema:name \"Calvin Harris\" .\n",
        "schema:Spouse3 a schema:Person ;\n",
        "    schema:name \"Joe Alvyn\" .\n",
        "schema:Spouse4 a schema:Person ;\n",
        "    schema:name \"Travis Kelce\" .\n",
        "\n",
        "\"\"\"\n",
        "\n",
        "plot = parse_and_plot(ttl_string)\n",
        "display(plot)"
      ]
    },
    {
      "cell_type": "markdown",
      "id": "e92d3430",
      "metadata": {},
      "source": [
        "## SPARQL\n",
        "\n",
        "Mit Hilfe von SPARQL Queries können RDF Daten abgefragt werden. Im Grundprinzip gibt man Query Patterns vor, die in den RDF Daten gesucht werden. Diese RDF Daten können von einem lokalen File kommen, oder von einem Triple Store, auf den über das Internet zugegriffen wird."
      ]
    },
    {
      "cell_type": "markdown",
      "id": "788bfe64",
      "metadata": {},
      "source": [
        "### Universale Query auf lokale Daten\n",
        "\n",
        "Die nachfolgende Query ist die *universale Query*, die alle Triples in den Daten zurückgibt:"
      ]
    },
    {
      "cell_type": "code",
      "execution_count": null,
      "id": "56c7385b",
      "metadata": {},
      "outputs": [],
      "source": [
        "ttl_string = \"\"\"\n",
        "\n",
        "@prefix ex: <https://example.com/> .\n",
        "@prefix xsd: <http://www.w3.org/2001/XMLSchema#> .\n",
        "\n",
        "ex:KingCharles ex:hasChild ex:PrinceHarry ;\n",
        "    ex:isKingOf ex:England ;\n",
        "    ex:hasMother ex:QueenElizabeth ;\n",
        "    ex:numberOfChildren 2 ;\n",
        "    ex:fullName \"Charles Philip Arthur George\" ;\n",
        "    ex:birthDate \"1948-11-14\"^^xsd:date .\n",
        "\n",
        "ex:PrinceHarry ex:hasSibling ex:PrinceWilliam.\n",
        "ex:QueenElizabeth ex:hasChild ex:KingCharles.\n",
        "ex:PrinceWilliam ex:hasSibling ex:PrinceHarry;\n",
        "    ex:livesIn ex:England.\n",
        "\n",
        "\"\"\"\n",
        "\n",
        "query_string = \"\"\"\n",
        "\n",
        "SELECT ?s ?p ?o WHERE {\n",
        "\n",
        "    ?s ?p ?o .\n",
        "\n",
        "}\n",
        "\n",
        "\"\"\"\n",
        "\n",
        "df = local_query(ttl_string, query_string)\n",
        "display_result(df)"
      ]
    },
    {
      "cell_type": "markdown",
      "id": "fdd8f67c",
      "metadata": {},
      "source": [
        "### Abfrage nach bestimmtem Prädikat\n",
        "\n",
        "Nachfolgende Query gibt alle Subjekte und Prädikate zurück, die über eine `ex:hasSibling` Verbindung verfügen:"
      ]
    },
    {
      "cell_type": "code",
      "execution_count": null,
      "id": "496ec1e3",
      "metadata": {},
      "outputs": [],
      "source": [
        "ttl_string = \"\"\"\n",
        "\n",
        "@prefix ex: <https://example.com/> .\n",
        "@prefix xsd: <http://www.w3.org/2001/XMLSchema#> .\n",
        "\n",
        "ex:KingCharles ex:hasChild ex:PrinceHarry ;\n",
        "    ex:isKingOf ex:England ;\n",
        "    ex:hasMother ex:QueenElizabeth ;\n",
        "    ex:numberOfChildren 2 ;\n",
        "    ex:fullName \"Charles Philip Arthur George\" ;\n",
        "    ex:birthDate \"1948-11-14\"^^xsd:date .\n",
        "\n",
        "ex:PrinceHarry ex:hasSibling ex:PrinceWilliam.\n",
        "ex:QueenElizabeth ex:hasChild ex:KingCharles.\n",
        "ex:PrinceWilliam ex:hasSibling ex:PrinceHarry;\n",
        "    ex:livesIn ex:England.\n",
        "\n",
        "\"\"\"\n",
        "\n",
        "query_string = \"\"\"\n",
        "\n",
        "PREFIX ex: <https://example.com/>\n",
        "\n",
        "SELECT ?s ?o WHERE {\n",
        "\n",
        "    ?s ex:hasSibling ?o .\n",
        "\n",
        "}\n",
        "\n",
        "\"\"\"\n",
        "\n",
        "df = local_query(ttl_string, query_string)\n",
        "display_result(df)"
      ]
    },
    {
      "cell_type": "markdown",
      "id": "f75b14d5",
      "metadata": {},
      "source": [
        "### Remote Daten abfragen\n",
        "\n",
        "Folgende Query gibt alle Kantone zurück, die bei Lindas gespeichert sind:"
      ]
    },
    {
      "cell_type": "code",
      "execution_count": null,
      "id": "342ffa47",
      "metadata": {},
      "outputs": [],
      "source": [
        "query_string = \"\"\"\n",
        "\n",
        "PREFIX rdf: <http://www.w3.org/1999/02/22-rdf-syntax-ns#>\n",
        "\n",
        "SELECT * WHERE {\n",
        "\n",
        "    ?canton rdf:type <https://schema.ld.admin.ch/Canton>  .\n",
        "\n",
        "}\n",
        "\n",
        "\"\"\"\n",
        "\n",
        "df = remote_query(query_string, \"https://ld.admin.ch/query\")\n",
        "display_result(df)"
      ]
    },
    {
      "cell_type": "markdown",
      "id": "cb600323",
      "metadata": {},
      "source": [
        "Da `rdf:type` ein so häufiges Prädikat ist, gibt es dafür die Abkürzung `a`:"
      ]
    },
    {
      "cell_type": "code",
      "execution_count": null,
      "id": "d3d190ac",
      "metadata": {},
      "outputs": [],
      "source": [
        "query_string = \"\"\"\n",
        "\n",
        "SELECT * WHERE {\n",
        "\n",
        "    ?canton a <https://schema.ld.admin.ch/Canton>  .\n",
        "\n",
        "}\n",
        "\n",
        "\"\"\"\n",
        "\n",
        "df = remote_query(query_string, \"https://ld.admin.ch/query\")\n",
        "display_result(df)"
      ]
    },
    {
      "cell_type": "markdown",
      "id": "30a8333b",
      "metadata": {},
      "source": [
        "### Aufgabe 8\n",
        "\n",
        "Erstelle eine Query, die alle in der Gemeinde Payerne registrierten Unternehmungen mit ihrem Namen zurückgibt.\n",
        "\n",
        "- Beispiel für eine Unternehmung: https://register.ld.admin.ch/zefix/company/3\n",
        "- Beispiel für eine Gemeinde: https://ld.admin.ch/municipality/351"
      ]
    },
    {
      "cell_type": "code",
      "execution_count": null,
      "id": "fe4c0e7f",
      "metadata": {},
      "outputs": [],
      "source": [
        "query_string = \"\"\"\n",
        "\n",
        "PREFIX admin: <https://schema.ld.admin.ch/>\n",
        "PREFIX schema: <http://schema.org/>\n",
        "\n",
        "SELECT * WHERE {\n",
        "\n",
        "    ?business a admin:ZefixOrganisation ;\n",
        "        admin:municipality <https://ld.admin.ch/municipality/5822>;\n",
        "        schema:name ?name .\n",
        "\n",
        "}\n",
        "\n",
        "\"\"\"\n",
        "\n",
        "df = remote_query(query_string, \"https://ld.admin.ch/query\")\n",
        "display_result(df)"
      ]
    },
    {
      "cell_type": "markdown",
      "id": "1adc70b1",
      "metadata": {},
      "source": [
        "## Shared Dimensions - Nutzung von bestehenden Objekten"
      ]
    },
    {
      "cell_type": "markdown",
      "id": "d9910ae6",
      "metadata": {},
      "source": [
        "### Alle Shared Dimensions von LINDAS\n",
        "\n",
        "Die folgende Query listet alle Shared Dimensions von LINDAS und ihre deutschen Namen auf:"
      ]
    },
    {
      "cell_type": "code",
      "execution_count": null,
      "id": "8a08a083",
      "metadata": {},
      "outputs": [],
      "source": [
        "query_string = \"\"\"\n",
        "\n",
        "PREFIX schema: <http://schema.org/>\n",
        "PREFIX meta: <https://cube.link/meta/>\n",
        "\n",
        "SELECT * WHERE {\n",
        "\n",
        "    ?sd a meta:SharedDimension ;\n",
        "        schema:name ?name .\n",
        "  \n",
        "  FILTER(lang(?name) = \"de\")\n",
        "\n",
        "}\n",
        "\n",
        "\"\"\"\n",
        "\n",
        "df = remote_query(query_string, \"https://ld.admin.ch/query\")\n",
        "display_result(df)"
      ]
    },
    {
      "cell_type": "markdown",
      "id": "1262708d",
      "metadata": {},
      "source": [
        "### Elemente in Shared Dimensions\n",
        "\n",
        "Folgende Query listet alle Elemente (Objekte) der Shared Dimension \"Parteien\" (https://politics.ld.admin.ch/vocabulary/party) auf:"
      ]
    },
    {
      "cell_type": "code",
      "execution_count": null,
      "id": "69e4f256",
      "metadata": {},
      "outputs": [],
      "source": [
        "query_string = \"\"\"\n",
        "\n",
        "PREFIX schema: <http://schema.org/>\n",
        "\n",
        "SELECT * WHERE {\n",
        "\n",
        "    <https://politics.ld.admin.ch/vocabulary/party> schema:hasDefinedTerm ?party.\n",
        "\n",
        "    ?party schema:name ?name .\n",
        "  \n",
        "  FILTER(lang(?name) = \"de\")\n",
        "\n",
        "}\n",
        "\n",
        "\"\"\"\n",
        "\n",
        "df = remote_query(query_string, \"https://ld.admin.ch/query\")\n",
        "display_result(df)"
      ]
    },
    {
      "cell_type": "markdown",
      "id": "73bc568b",
      "metadata": {},
      "source": [
        "### Aufgabe 9\n",
        "\n",
        "Liste alle Elemente der Shared Dimension \"Schwermetall\" (https://ld.admin.ch/cube/dimension/el01) mit ihrem deutschen Namen auf. Hinweis, die Elemente dieser Shared Dimension sind nicht mit `schema:hasDefinedTerm` bei der Shared Dimension angehängt sondern auf Stufe Element mit `schema:inDefinedTermSet`:"
      ]
    },
    {
      "cell_type": "code",
      "execution_count": null,
      "id": "f1c927d2",
      "metadata": {},
      "outputs": [],
      "source": [
        "query_string = \"\"\"\n",
        "\n",
        "PREFIX schema: <http://schema.org/>\n",
        "\n",
        "SELECT * WHERE {\n",
        "\n",
        "    ?hm schema:inDefinedTermSet <https://ld.admin.ch/cube/dimension/el01> ;\n",
        "      schema:name ?name .\n",
        "  \n",
        "  FILTER(lang(?name) = \"de\")\n",
        "\n",
        "}\n",
        "\n",
        "\"\"\"\n",
        "\n",
        "df = remote_query(query_string, \"https://ld.admin.ch/query\")\n",
        "display_result(df)"
      ]
    }
  ],
  "metadata": {
    "kernelspec": {
      "display_name": "LD",
      "language": "python",
      "name": "python3"
    },
    "language_info": {
      "codemirror_mode": {
        "name": "ipython",
        "version": 3
      },
      "file_extension": ".py",
      "mimetype": "text/x-python",
      "name": "python",
      "nbconvert_exporter": "python",
      "pygments_lexer": "ipython3",
      "version": "3.12.4"
    },
    "toc-autonumbering": true
  },
  "nbformat": 4,
  "nbformat_minor": 5
}
